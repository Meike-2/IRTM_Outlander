{
 "cells": [
  {
   "cell_type": "markdown",
   "source": [
    "### Get All Locations"
   ],
   "metadata": {
    "collapsed": false
   }
  },
  {
   "cell_type": "code",
   "execution_count": null,
   "metadata": {
    "collapsed": true
   },
   "outputs": [],
   "source": [
    "import pandas as pd\n",
    "from flair.data import Sentence, Token\n",
    "from flair.models import SequenceTagger\n",
    "\n",
    "books = ['Outlander', 'Dragonfly in Amber', 'Voyager', 'Drums of Autumn', 'The Fiery Cross',\n",
    "         'A Breath of Snow and Ashes',\n",
    "         'An Echo in the Bone', 'Written in My Own Heart’s Blood']\n",
    "extras = ['Other Books by this Author', 'About the Author']\n",
    "bookstarts = [50, 17287, 37378, 61857, 89432, 119494, 152540, 177800, 202059]\n",
    "f = open(\"data.txt\", \"r\", encoding=\"utf8\")\n",
    "booknum = 3\n",
    "\n",
    "book = ''\n",
    "i = 0\n",
    "for line in f:\n",
    "    if i < bookstarts[booknum] and i > bookstarts[booknum - 1]:\n",
    "        book = book + line\n",
    "    i = i + 1\n",
    "print(len(book))\n",
    "\n",
    "# load tagger\n",
    "tagger_ner = SequenceTagger.load(\"flair/ner-english-ontonotes-fast\")\n",
    "tagger_pos = SequenceTagger.load(\"flair/pos-english\")\n",
    "\n",
    "\n",
    "def ner_tag(text):\n",
    "    sentence_ner = Sentence(text)\n",
    "\n",
    "    # predict NER tags\n",
    "    tagger_ner.predict(sentence_ner)\n",
    "    return sentence_ner\n",
    "\n",
    "\n",
    "def pos_tag(text):\n",
    "    sentence_pos = Sentence(text.split(' '), use_tokenizer=True)\n",
    "\n",
    "    # predict NER tags\n",
    "    tagger_pos.predict(sentence_pos)\n",
    "    return sentence_pos\n",
    "\n",
    "\n",
    "def get_person_before(sentence_ner, token):\n",
    "    if token.text == 'it':\n",
    "        return token.text\n",
    "    if token.text == 'I' or token.text == 'me':\n",
    "        return 'Claire'\n",
    "    prev_person = ''\n",
    "    for entity in sentence_ner.get_spans('ner'):\n",
    "        if entity.tag == 'PERSON' and entity.start_position < token.start_position:\n",
    "            prev_person = entity.text\n",
    "        elif entity.start_position > token.start_position:\n",
    "            break\n",
    "    return prev_person\n",
    "\n",
    "\n",
    "import re\n",
    "\n",
    "\n",
    "def split_into_chapters(booknum, text):\n",
    "    if booknum < 7:\n",
    "        return re.split(r'(\\\\n[0-9]+\\\\n\\\\n)', book)\n",
    "    else:\n",
    "        # needs refinement\n",
    "        return re.split(r'[A-Z ]+\\\\n\\\\n', book)\n",
    "\n",
    "\n",
    "def split_into_paragraphs(text):\n",
    "    splitted = re.split('(\\*\\*\\*)', text)\n",
    "    return [x for x in splitted if x != '']\n",
    "\n",
    "\n",
    "chapters = re.split(r'\\n[0-9]+\\n\\n')"
   ]
  },
  {
   "cell_type": "markdown",
   "source": [
    "### From loc get lon and lat"
   ],
   "metadata": {
    "collapsed": false
   }
  },
  {
   "cell_type": "code",
   "execution_count": 47,
   "outputs": [],
   "source": [
    "f = open(\"locs_unique.txt\", \"r\", encoding=\"utf8\")\n",
    "\n",
    "locs = []\n",
    "for line in f:\n",
    "    locs.append(line)"
   ],
   "metadata": {
    "collapsed": false,
    "ExecuteTime": {
     "start_time": "2023-05-17T00:09:49.112872Z",
     "end_time": "2023-05-17T00:09:49.125835Z"
    }
   }
  },
  {
   "cell_type": "code",
   "execution_count": 4,
   "outputs": [
    {
     "data": {
      "text/plain": "839"
     },
     "execution_count": 4,
     "metadata": {},
     "output_type": "execute_result"
    }
   ],
   "source": [
    "len(locs)"
   ],
   "metadata": {
    "collapsed": false,
    "ExecuteTime": {
     "start_time": "2023-05-16T18:08:53.901552Z",
     "end_time": "2023-05-16T18:08:53.931274Z"
    }
   }
  },
  {
   "cell_type": "code",
   "execution_count": 30,
   "outputs": [],
   "source": [
    "with open('locs_unique.txt', 'a') as f:\n",
    "    for l in locs:\n",
    "        f.write(l)"
   ],
   "metadata": {
    "collapsed": false,
    "ExecuteTime": {
     "start_time": "2023-05-16T23:54:47.471002Z",
     "end_time": "2023-05-16T23:54:47.484695Z"
    }
   }
  },
  {
   "cell_type": "code",
   "execution_count": 6,
   "outputs": [
    {
     "name": "stdout",
     "output_type": "stream",
     "text": [
      "Collecting geopy\n",
      "  Downloading geopy-2.3.0-py3-none-any.whl (119 kB)\n",
      "     -------------------------------------- 119.8/119.8 kB 2.3 MB/s eta 0:00:00\n",
      "Collecting geographiclib<3,>=1.52\n",
      "  Downloading geographiclib-2.0-py3-none-any.whl (40 kB)\n",
      "     ---------------------------------------- 40.3/40.3 kB 1.9 MB/s eta 0:00:00\n",
      "Installing collected packages: geographiclib, geopy\n",
      "Successfully installed geographiclib-2.0 geopy-2.3.0\n"
     ]
    }
   ],
   "source": [
    "!pip install geopy"
   ],
   "metadata": {
    "collapsed": false,
    "ExecuteTime": {
     "start_time": "2023-05-16T23:19:08.941329Z",
     "end_time": "2023-05-16T23:19:17.871262Z"
    }
   }
  },
  {
   "cell_type": "code",
   "execution_count": 48,
   "outputs": [
    {
     "name": "stdout",
     "output_type": "stream",
     "text": [
      "North Caicos\n",
      "\n",
      "Netherlands\n",
      "\n",
      "Philadelphia\n",
      "\n",
      "Falkirk\n",
      "\n",
      "Broch Tuarach\n",
      "\n",
      "Whitehall\n",
      "\n",
      "Cumberland\n",
      "\n",
      "Oneida\n",
      "\n",
      "Tsatsa'wi Tsatsa'wi\n",
      "\n",
      "Redondo Beach\n",
      "\n",
      "St. Denys\n",
      "\n",
      "Florida\n",
      "\n",
      "St. Ninian\n",
      "\n",
      "Rue de Varennes\n",
      "\n",
      "Royal Colony of South Carolina\n",
      "\n",
      "Comte de Palles\n",
      "\n",
      "Bois de Boulogne\n",
      "\n",
      "City of Savannah\n"
     ]
    }
   ],
   "source": [
    "from geopy.geocoders import Nominatim\n",
    "import pandas as pd\n",
    "\n",
    "geolocator = Nominatim(user_agent=\"geoapiExercises\")\n",
    "locs_dict = pd.DataFrame(columns = ['Name', 'Longitude', 'Latitude'])\n",
    "i = 0\n",
    "for l in locs:\n",
    "    lat = 'None'\n",
    "    lon = 'None'\n",
    "    print(l)\n",
    "    location = geolocator.geocode(l)\n",
    "    if location is not None:\n",
    "        lat = location.latitude\n",
    "        lon = location.longitude\n",
    "    locs_dict = locs_dict.append({'Name' : l, 'Longitude' : lon, 'Latitude' : lat}, ignore_index = True)\n"
   ],
   "metadata": {
    "collapsed": false,
    "ExecuteTime": {
     "start_time": "2023-05-17T00:09:52.185707Z",
     "end_time": "2023-05-17T00:10:01.662471Z"
    }
   }
  },
  {
   "cell_type": "code",
   "execution_count": 59,
   "outputs": [],
   "source": [
    "locs_dict.to_csv('locs_lonlat1.csv')"
   ],
   "metadata": {
    "collapsed": false,
    "ExecuteTime": {
     "start_time": "2023-05-17T00:22:37.335615Z",
     "end_time": "2023-05-17T00:22:37.391616Z"
    }
   }
  },
  {
   "cell_type": "code",
   "execution_count": 58,
   "outputs": [
    {
     "data": {
      "text/plain": "                               Name          Longitude     Latitude\n0                          Richmond          -77.43428   37.5385087\n1                         Oak Grove        -90.5688924   41.4136501\n2                           Gwyllyn               None         None\n3                        Marblehead        -70.8578253    42.500096\n4                           Jocasta  7.614895275343744  44.37369555\n..                              ...                ...          ...\n833                 Rue de Varennes          2.5048599   50.0351489\n834  Royal Colony of South Carolina               None         None\n835                 Comte de Palles         15.0865574   62.4011503\n836                Bois de Boulogne  2.248257867854371  48.86409285\n837                City of Savannah        144.9848116  -37.7991411\n\n[838 rows x 3 columns]",
      "text/html": "<div>\n<style scoped>\n    .dataframe tbody tr th:only-of-type {\n        vertical-align: middle;\n    }\n\n    .dataframe tbody tr th {\n        vertical-align: top;\n    }\n\n    .dataframe thead th {\n        text-align: right;\n    }\n</style>\n<table border=\"1\" class=\"dataframe\">\n  <thead>\n    <tr style=\"text-align: right;\">\n      <th></th>\n      <th>Name</th>\n      <th>Longitude</th>\n      <th>Latitude</th>\n    </tr>\n  </thead>\n  <tbody>\n    <tr>\n      <th>0</th>\n      <td>Richmond</td>\n      <td>-77.43428</td>\n      <td>37.5385087</td>\n    </tr>\n    <tr>\n      <th>1</th>\n      <td>Oak Grove</td>\n      <td>-90.5688924</td>\n      <td>41.4136501</td>\n    </tr>\n    <tr>\n      <th>2</th>\n      <td>Gwyllyn</td>\n      <td>None</td>\n      <td>None</td>\n    </tr>\n    <tr>\n      <th>3</th>\n      <td>Marblehead</td>\n      <td>-70.8578253</td>\n      <td>42.500096</td>\n    </tr>\n    <tr>\n      <th>4</th>\n      <td>Jocasta</td>\n      <td>7.614895275343744</td>\n      <td>44.37369555</td>\n    </tr>\n    <tr>\n      <th>...</th>\n      <td>...</td>\n      <td>...</td>\n      <td>...</td>\n    </tr>\n    <tr>\n      <th>833</th>\n      <td>Rue de Varennes</td>\n      <td>2.5048599</td>\n      <td>50.0351489</td>\n    </tr>\n    <tr>\n      <th>834</th>\n      <td>Royal Colony of South Carolina</td>\n      <td>None</td>\n      <td>None</td>\n    </tr>\n    <tr>\n      <th>835</th>\n      <td>Comte de Palles</td>\n      <td>15.0865574</td>\n      <td>62.4011503</td>\n    </tr>\n    <tr>\n      <th>836</th>\n      <td>Bois de Boulogne</td>\n      <td>2.248257867854371</td>\n      <td>48.86409285</td>\n    </tr>\n    <tr>\n      <th>837</th>\n      <td>City of Savannah</td>\n      <td>144.9848116</td>\n      <td>-37.7991411</td>\n    </tr>\n  </tbody>\n</table>\n<p>838 rows × 3 columns</p>\n</div>"
     },
     "execution_count": 58,
     "metadata": {},
     "output_type": "execute_result"
    }
   ],
   "source": [
    "locs_dict"
   ],
   "metadata": {
    "collapsed": false,
    "ExecuteTime": {
     "start_time": "2023-05-17T00:15:01.591966Z",
     "end_time": "2023-05-17T00:15:01.648747Z"
    }
   }
  }
 ],
 "metadata": {
  "kernelspec": {
   "display_name": "Python 3",
   "language": "python",
   "name": "python3"
  },
  "language_info": {
   "codemirror_mode": {
    "name": "ipython",
    "version": 2
   },
   "file_extension": ".py",
   "mimetype": "text/x-python",
   "name": "python",
   "nbconvert_exporter": "python",
   "pygments_lexer": "ipython2",
   "version": "2.7.6"
  }
 },
 "nbformat": 4,
 "nbformat_minor": 0
}
