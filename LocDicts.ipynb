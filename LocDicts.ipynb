{
 "cells": [
  {
   "cell_type": "markdown",
   "source": [
    "### Get All Locations"
   ],
   "metadata": {
    "collapsed": false
   }
  },
  {
   "cell_type": "code",
   "execution_count": null,
   "metadata": {
    "collapsed": true
   },
   "outputs": [],
   "source": [
    "from flair.data import Sentence, Token\n",
    "from flair.models import SequenceTagger\n",
    "\n",
    "books = ['Outlander', 'Dragonfly in Amber', 'Voyager', 'Drums of Autumn', 'The Fiery Cross',\n",
    "         'A Breath of Snow and Ashes',\n",
    "         'An Echo in the Bone', 'Written in My Own Heart’s Blood']\n",
    "extras = ['Other Books by this Author', 'About the Author']\n",
    "bookstarts = [50, 17287, 37378, 61857, 89432, 119494, 152540, 177800, 202059]\n",
    "f = open(\"data.txt\", \"r\", encoding=\"utf8\")\n",
    "booknum = 3\n",
    "\n",
    "book = ''\n",
    "i = 0\n",
    "for line in f:\n",
    "    if i < bookstarts[booknum] and i > bookstarts[booknum - 1]:\n",
    "        book = book + line\n",
    "    i = i + 1\n",
    "print(len(book))\n",
    "\n",
    "# load tagger\n",
    "tagger_ner = SequenceTagger.load(\"flair/ner-english-ontonotes-fast\")\n",
    "tagger_pos = SequenceTagger.load(\"flair/pos-english\")\n",
    "\n",
    "\n",
    "def ner_tag(text):\n",
    "    sentence_ner = Sentence(text)\n",
    "\n",
    "    # predict NER tags\n",
    "    tagger_ner.predict(sentence_ner)\n",
    "    return sentence_ner\n",
    "\n",
    "\n",
    "def pos_tag(text):\n",
    "    sentence_pos = Sentence(text.split(' '), use_tokenizer=True)\n",
    "\n",
    "    # predict NER tags\n",
    "    tagger_pos.predict(sentence_pos)\n",
    "    return sentence_pos\n",
    "\n",
    "\n",
    "def get_person_before(sentence_ner, token):\n",
    "    if token.text == 'it':\n",
    "        return token.text\n",
    "    if token.text == 'I' or token.text == 'me':\n",
    "        return 'Claire'\n",
    "    prev_person = ''\n",
    "    for entity in sentence_ner.get_spans('ner'):\n",
    "        if entity.tag == 'PERSON' and entity.start_position < token.start_position:\n",
    "            prev_person = entity.text\n",
    "        elif entity.start_position > token.start_position:\n",
    "            break\n",
    "    return prev_person\n",
    "\n",
    "\n",
    "import re\n",
    "\n",
    "\n",
    "def split_into_chapters(booknum, text):\n",
    "    if booknum < 7:\n",
    "        return re.split(r'(\\\\n[0-9]+\\\\n\\\\n)', book)\n",
    "    else:\n",
    "        # needs refinement\n",
    "        return re.split(r'[A-Z ]+\\\\n\\\\n', book)\n",
    "\n",
    "\n",
    "def split_into_paragraphs(text):\n",
    "    splitted = re.split('(\\*\\*\\*)', text)\n",
    "    return [x for x in splitted if x != '']\n",
    "\n",
    "\n",
    "chapters = re.split(r'\\n[0-9]+\\n\\n')"
   ]
  },
  {
   "cell_type": "markdown",
   "source": [
    "### From loc get lon and lat"
   ],
   "metadata": {
    "collapsed": false
   }
  },
  {
   "cell_type": "code",
   "execution_count": null,
   "outputs": [],
   "source": [],
   "metadata": {
    "collapsed": false
   }
  }
 ],
 "metadata": {
  "kernelspec": {
   "display_name": "Python 3",
   "language": "python",
   "name": "python3"
  },
  "language_info": {
   "codemirror_mode": {
    "name": "ipython",
    "version": 2
   },
   "file_extension": ".py",
   "mimetype": "text/x-python",
   "name": "python",
   "nbconvert_exporter": "python",
   "pygments_lexer": "ipython2",
   "version": "2.7.6"
  }
 },
 "nbformat": 4,
 "nbformat_minor": 0
}
