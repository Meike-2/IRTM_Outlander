{
 "cells": [
  {
   "cell_type": "markdown",
   "source": [
    "### Get All Locations"
   ],
   "metadata": {
    "collapsed": false
   }
  },
  {
   "cell_type": "code",
   "execution_count": null,
   "metadata": {
    "collapsed": true
   },
   "outputs": [],
   "source": [
    "from flair.data import Sentence, Token\n",
    "from flair.models import SequenceTagger\n",
    "\n",
    "books = ['Outlander', 'Dragonfly in Amber', 'Voyager', 'Drums of Autumn', 'The Fiery Cross',\n",
    "         'A Breath of Snow and Ashes',\n",
    "         'An Echo in the Bone', 'Written in My Own Heart’s Blood']\n",
    "extras = ['Other Books by this Author', 'About the Author']\n",
    "bookstarts = [50, 17287, 37378, 61857, 89432, 119494, 152540, 177800, 202059]\n",
    "f = open(\"data.txt\", \"r\", encoding=\"utf8\")\n",
    "booknum = 3\n",
    "\n",
    "book = ''\n",
    "i = 0\n",
    "for line in f:\n",
    "    if i < bookstarts[booknum] and i > bookstarts[booknum - 1]:\n",
    "        book = book + line\n",
    "    i = i + 1\n",
    "print(len(book))\n",
    "\n",
    "# load tagger\n",
    "tagger_ner = SequenceTagger.load(\"flair/ner-english-ontonotes-fast\")\n",
    "tagger_pos = SequenceTagger.load(\"flair/pos-english\")\n",
    "\n",
    "\n",
    "def ner_tag(text):\n",
    "    sentence_ner = Sentence(text)\n",
    "\n",
    "    # predict NER tags\n",
    "    tagger_ner.predict(sentence_ner)\n",
    "    return sentence_ner\n",
    "\n",
    "\n",
    "def pos_tag(text):\n",
    "    sentence_pos = Sentence(text.split(' '), use_tokenizer=True)\n",
    "\n",
    "    # predict NER tags\n",
    "    tagger_pos.predict(sentence_pos)\n",
    "    return sentence_pos\n",
    "\n",
    "\n",
    "def get_person_before(sentence_ner, token):\n",
    "    if token.text == 'it':\n",
    "        return token.text\n",
    "    if token.text == 'I' or token.text == 'me':\n",
    "        return 'Claire'\n",
    "    prev_person = ''\n",
    "    for entity in sentence_ner.get_spans('ner'):\n",
    "        if entity.tag == 'PERSON' and entity.start_position < token.start_position:\n",
    "            prev_person = entity.text\n",
    "        elif entity.start_position > token.start_position:\n",
    "            break\n",
    "    return prev_person\n",
    "\n",
    "\n",
    "import re\n",
    "\n",
    "\n",
    "def split_into_chapters(booknum, text):\n",
    "    if booknum < 7:\n",
    "        return re.split(r'(\\\\n[0-9]+\\\\n\\\\n)', book)\n",
    "    else:\n",
    "        # needs refinement\n",
    "        return re.split(r'[A-Z ]+\\\\n\\\\n', book)\n",
    "\n",
    "\n",
    "def split_into_paragraphs(text):\n",
    "    splitted = re.split('(\\*\\*\\*)', text)\n",
    "    return [x for x in splitted if x != '']\n",
    "\n",
    "\n",
    "chapters = re.split(r'\\n[0-9]+\\n\\n')"
   ]
  },
  {
   "cell_type": "markdown",
   "source": [
    "### From loc get lon and lat"
   ],
   "metadata": {
    "collapsed": false
   }
  },
  {
   "cell_type": "code",
   "execution_count": 3,
   "outputs": [
    {
     "data": {
      "text/plain": "['Richmond\\n',\n 'Oak Grove\\n',\n 'Gwyllyn\\n',\n 'Marblehead\\n',\n 'Jocasta\\n',\n 'Harbor\\n',\n 'Smoky\\n',\n 'Sherstons’\\n',\n 'Burgoyne\\n',\n 'Beauly\\n',\n 'Kent\\n',\n 'the Iroquois League\\n',\n 'the Isle of Skye\\n',\n 'Caswell\\n',\n 'the Celestial Kingdom of China\\n',\n 'Wickham Wynd\\n',\n 'Culross\\n',\n 'the American Colonies\\n',\n 'the Marquis de La Fayette\\n',\n 'Fraser’s Ridge\\n',\n 'Guilford\\n',\n 'Trinidad\\n',\n 'the Towns of Wilmington\\n',\n 'New England\\n',\n 'Gaeta\\n',\n 'St. Anselm\\n',\n 'Hesse-Cassel\\n',\n 'Jamaica\\n',\n 'Elmsford\\n',\n 'Laoghaire Laoghaire\\n',\n 'Bonnet\\n',\n 'U.S.\\n',\n 'Bayamo\\n',\n 'Tavistock\\n',\n 'St. Stephen\\n',\n 'Woolam’s Creek\\n',\n 'Hacffurthe\\n',\n 'colonies\\n',\n 'Wadesboro\\n',\n 'Ellesmere\\n',\n 'Kentucky\\n',\n 'Struy\\n',\n 'Woodbine\\n',\n 'Surry\\n',\n 'Hampshire\\n',\n 'Sandringham\\n',\n 'Elgin\\n',\n 'Carryarrick\\n',\n 'Philadelphia.\\n',\n 'Portree\\n',\n 'Randalls’\\n',\n 'Oglanethaka.\\n',\n 'Balmerino\\n',\n 'Quebec City\\n',\n 'Pembroke\\n',\n 'Williamsburg\\n',\n 'Albany\\n',\n 'Lochiel\\n',\n 'Nuckelavee\\n',\n 'Joad’s Inlet\\n',\n 'Ticonderoga\\n',\n 'VERSAILLES\\n',\n 'St. Finbar\\n',\n 'Wilmingon\\n',\n 'Maitland\\n',\n 'Delft\\n',\n 'the States\\n',\n 'St. Andrew\\n',\n 'Tynchal\\n',\n 'Tunnaig\\n',\n 'St. Raymond\\n',\n 'Earlingden\\n',\n 'the Vicomtesse de Rambeau\\n',\n 'Onakara\\n',\n 'Randall-Isaacs\\n',\n 'MD\\n',\n 'Ninian\\n',\n 'St. Paul\\n',\n 'Newcastle\\n',\n 'Dublin\\n',\n 'Kiltorlity\\n',\n 'Highlands\\n',\n 'Vermont\\n',\n 'Italy\\n',\n 'Lag Cruime\\n',\n 'St. Giles’\\n',\n 'Sunbury\\n',\n 'St. Barbara\\n',\n 'Essich\\n',\n 'Munich\\n',\n 'the Boìs de Boulogne\\n',\n 'Brunswick\\n',\n 'New Hope Creek\\n',\n 'Tsisqua\\n',\n 'Rovo\\n',\n 'Preston\\n',\n 'Scilly\\n',\n 'the Heavenly Kingdom of China\\n',\n 'Lachlans’\\n',\n 'Musselburgh\\n',\n 'Tomnahurich\\n',\n 'Nairn\\n',\n 'G. Britain\\n',\n 'Duntulm\\n',\n 'Pigtown\\n',\n 'Vendôme’\\n',\n 'St. Elmo\\n',\n 'Nayawenne\\n',\n 'New Brunswick\\n',\n 'geneva\\n',\n 'Maine\\n',\n 'Islay\\n',\n 'Barra Meadows\\n',\n 'Kahnyen’kehaka\\n',\n 'Ravenstown\\n',\n 'FONTAINEBLEAU\\n',\n 'Ireland\\n',\n 'Clarewell\\n',\n 'Rouen\\n',\n 'Craigh na Dun\\n',\n 'Erracht\\n',\n 'Tennessee\\n',\n 'Switzerland\\n',\n 'Armadale\\n',\n 'Carolinas\\n',\n 'O’Sullivan\\n',\n 'Concord\\n',\n 'Loch Ness\\n',\n 'St. Croix\\n',\n 'Prestonpans\\n',\n 'Andrustown\\n',\n 'BROWNSVILLE\\n',\n 'St. Anne\\n',\n 'U.S\\n',\n 'the Colony of North Carolina\\n',\n 'Australia\\n',\n 'Kahyen’kehaka\\n',\n 'Salisbury\\n',\n 'Brewster\\n',\n 'Calcutta\\n',\n 'Snaketown\\n',\n 'New Haven\\n',\n 'the Imperial City\\n',\n 'Chicago\\n',\n 'Tarwathie\\n',\n 'Boone\\n',\n 'Arles\\n',\n 'Providence\\n',\n 'Fermoy\\n',\n 'Buncombe\\n',\n 'Sri Lanka\\n',\n 'Tuarach\\n',\n 'Brighton\\n',\n 'Sleat\\n',\n 'St. Lawrence\\n',\n 'Beaufort\\n',\n 'Kanu’gala’yi\\n',\n 'Georgia\\n',\n 'Greenoaks\\n',\n 'Benevento\\n',\n 'Brownsville\\n',\n 'Great Britain\\n',\n 'Moubray\\n',\n 'Oxfordshire\\n',\n 'Invermoriston\\n',\n 'Dismal Town\\n',\n 'Unadilla\\n',\n 'Amiens\\n',\n 'St. John\\n',\n 'Creek\\n',\n 'Hillsboro\\n',\n 'Yorktown\\n',\n 'Lodge\\n',\n 'United States\\n',\n 'Leoch\\n',\n 'Wilmington\\n',\n 'Kakonhoaerhas\\n',\n 'Martinique\\n',\n 'Cottonwood\\n',\n \"Muellers'\\n\",\n 'Truro\\n',\n 'Tuscaroran\\n',\n 'Malvern\\n',\n 'FALKIRK\\n',\n 'Cross Creek\\n',\n 'Shawnee\\n',\n 'Ballagh\\n',\n 'Neuse River\\n',\n 'Hobart\\n',\n 'America\\n',\n 'Belladrum\\n',\n 'Iseabaìl\\n',\n 'Charlestown\\n',\n 'Dundreggan\\n',\n 'Anidonau Nuya\\n',\n 'Thayendanegea\\n',\n 'Fontainebleau\\n',\n 'Gallegher\\n',\n 'the Northwest Territory\\n',\n 'Draighhearnach\\n',\n 'The West Indies\\n',\n 'Da Da\\n',\n 'the Duchesse de Neve\\n',\n 'Delaware\\n',\n 'Frankfort\\n',\n 'McGillivrays’\\n',\n 'Detroit\\n',\n 'Roxbury\\n',\n 'ENGLAND\\n',\n 'Grenada\\n',\n 'Amphipolos\\n',\n 'Calais\\n',\n 'Chemodurow\\n',\n 'Abandawe\\n',\n 'Wakefield\\n',\n 'Sengas\\n',\n 'Westminster\\n',\n 'Compiègne\\n',\n 'Middlebrook\\n',\n 'Sussex\\n',\n 'Total\\n',\n 'Carryarick\\n',\n 'Dunmaglas\\n',\n 'Cock-Robin\\n',\n 'Rowan County\\n',\n 'MA\\n',\n 'Perth Harbor\\n',\n 'Fife\\n',\n 'Chianti\\n',\n 'Aubusson\\n',\n 'Maedle\\n',\n 'Auldearn\\n',\n 'New Bern\\n',\n 'Country\\n',\n 'Oklahoma\\n',\n 'Holyroodhouse\\n',\n 'Barbecue Creek\\n',\n 'Toledo\\n',\n 'the Virgin Islands\\n',\n 'Britain\\n',\n 'Skye\\n',\n 'Livingston\\n',\n 'Cranesmuir\\n',\n 'Kingsessing\\n',\n 'the Isle of Harris\\n',\n 'the Belle Rouge\\n',\n 'Keppoch\\n',\n 'Lewes\\n',\n 'New Dorp\\n',\n 'Culloden\\n',\n 'Plymouth\\n',\n 'High Point\\n',\n 'Tuscarora\\n',\n 'Pekin\\n',\n 'Caicos\\n',\n 'Esmeralda\\n',\n 'Dunvegan\\n',\n 'Ardagh\\n',\n 'Coigach\\n',\n 'Lisbon\\n',\n 'Alsace\\n',\n 'Indianapolis\\n',\n \"Dunsanys'\\n\",\n 'Brianna\\n',\n 'California\\n',\n 'Kilburnie\\n',\n 'Brian\\n',\n 'los Angeles\\n',\n 'Da Claire\\n',\n 'Russia\\n',\n 'Borneo\\n',\n 'Montrose\\n',\n 'Flushing\\n',\n 'Tiugainn\\n',\n 'Houston\\n',\n 'River Run\\n',\n 'Woolams\\n',\n 'Donibristle\\n',\n 'Hale\\n',\n 'Belle Rouge\\n',\n 'the Isle of Lewis\\n',\n 'Foyne\\n',\n 'Eldridge Manor\\n',\n 'Yona’kensyonk\\n',\n 'Briertown\\n',\n 'MacRannoch\\n',\n 'Argentan\\n',\n 'New Jersey\\n',\n 'the City\\n',\n 'Le Havre\\n',\n 'Middletown Encampment\\n',\n 'Hempstead\\n',\n 'SCOTLAND\\n',\n 'St. Kilda’\\n',\n 'the Colony of Virginia\\n',\n 'Pickles      LONG ISLAND\\n',\n 'Orkney\\n',\n 'Perth\\n',\n 'Savannah\\n',\n 'Sur-le-Meine\\n',\n 'Appin\\n',\n 'Highland\\n',\n 'St. Germain\\n',\n 'Bethania\\n',\n 'Doonesbury\\n',\n 'Paris\\n',\n 'Ghent\\n',\n 'Colony\\n',\n 'Killin\\n',\n 'Osiyo\\n',\n 'Glengarry\\n',\n 'Middlebrook Encampment\\n',\n 'Mexico\\n',\n 'Caroline County\\n',\n 'Ayrshire\\n',\n 'Charlottesville\\n',\n 'Ardraigh\\n',\n 'Jamie Claire\\n',\n 'Lynchburg\\n',\n 'Taprooms\\n',\n 'Ladywalk Wynd\\n',\n 'Broch Mordha\\n',\n 'St. Guignole\\n',\n 'Mecklenberg County\\n',\n 'Hebdy\\n',\n 'Gostos\\n',\n 'Abernathy\\n',\n 'Sungi\\n',\n 'Dunedin\\n',\n 'Rhode Island\\n',\n 'Berwick\\n',\n 'Barbados\\n',\n 'Madrid\\n',\n 'Murdina\\n',\n 'Scotchee\\n',\n 'Great Abaco\\n',\n 'Killiecrankie\\n',\n 'La Fayette\\n',\n 'Maryland\\n',\n 'Lancashire\\n',\n 'Cap-Haïtien\\n',\n 'Madeira\\n',\n 'Sligo\\n',\n 'Barbuda\\n',\n 'Turkey\\n',\n 'Salem\\n',\n 'Inverness-shire\\n',\n 'Canterbury\\n',\n 'Hillsborough\\n',\n 'Flanders\\n',\n 'the King of France\\n',\n 'Ardsmuir\\n',\n 'PENNSYLVANIA\\n',\n 'Rossmoor\\n',\n 'Hallo\\n',\n 'Malva\\n',\n 'Loch Lomond\\n',\n 'Dundaff\\n',\n 'Beaune\\n',\n 'Valencia\\n',\n 'Forez\\n',\n 'Milford Lyon\\n',\n 'Quaker\\n',\n 'Loch Madoch\\n',\n 'Crombie\\n',\n 'Scotland\\n',\n 'Dingwall\\n',\n 'Brussels\\n',\n 'Tennago\\n',\n 'a City\\n',\n 'JOCASTA  Cross Creek\\n',\n 'Montmartre\\n',\n 'Hesse-Kassel\\n',\n 'Geneva\\n',\n 'Wilmington Harbor\\n',\n 'Claire\\n',\n 'Cumberpatch\\n',\n 'Persia\\n',\n 'Laoghaire\\n',\n 'Cooperville\\n',\n 'Murtagh\\n',\n 'Kilmartin\\n',\n 'Hodgepile\\n',\n 'Freehold\\n',\n 'Scotland Bree\\n',\n 'Virginia\\n',\n 'St. Leger\\n',\n 'Chew Full-rigged\\n',\n 'Spotswood Middlebrook\\n',\n 'Norway\\n',\n 'Restalrig\\n',\n 'Anstruther\\n',\n 'Carolina\\n',\n 'Boiling Creek\\n',\n 'Jamie\\n',\n 'Greensboro\\n',\n 'Southampton\\n',\n 'YORK\\n',\n 'ZUGUNRUHE\\n',\n 'Wood\\n',\n 'Henri-Christian\\n',\n 'Fort Johnston\\n',\n 'Daviot\\n',\n 'Edinburgh\\n',\n 'Alamance\\n',\n 'Annekje\\n',\n 'the Isle of Man\\n',\n 'St. Augustine\\n',\n 'St. Agnes\\n',\n 'Isle of Lewis\\n',\n 'Derby\\n',\n 'Pitsligo\\n',\n 'Craven\\n',\n 'Leith Wynd\\n',\n 'Banff\\n',\n 'Halifax\\n',\n 'Nigeria\\n',\n 'Kildennie\\n',\n 'Damascus\\n',\n 'Tartary\\n',\n 'Ocracoke Island\\n',\n 'Portugal\\n',\n 'France\\n',\n 'Eleuthera\\n',\n 'Brest\\n',\n 'Sheriffmuir\\n',\n 'Arachmida\\n',\n 'Marsali\\n',\n 'Fort William\\n',\n 'Helwater\\n',\n 'Lebanon\\n',\n 'Rowan county\\n',\n 'Toulon\\n',\n 'Coopersville\\n',\n 'Phaedre\\n',\n 'Charleston\\n',\n 'States\\n',\n 'Alexandria\\n',\n 'Madras\\n',\n 'Ascaria\\n',\n 'HOLYROOD\\n',\n 'Ardrossan\\n',\n 'Meissen\\n',\n 'Lindsays’\\n',\n 'Great Inagua\\n',\n 'Buttonmold Bay\\n',\n 'Bree\\n',\n 'Roquefort\\n',\n 'Mottville\\n',\n 'Villette\\n',\n 'L.J.\\n',\n 'Germany\\n',\n 'Grants\\n',\n 'Ormiston\\n',\n 'Sheridan\\n',\n 'Dunbar\\n',\n 'Holland\\n',\n 'Devon\\n',\n 'Bouton\\n',\n 'Hancock\\n',\n 'Balcarres\\n',\n 'New Bern.\\n',\n 'Geilie\\n',\n 'His Grace\\n',\n 'Lawrence\\n',\n 'Cherokee\\n',\n 'Peru\\n',\n 'Orvieto\\n',\n 'Yorkshire\\n',\n 'Bree Bree\\n',\n 'Calder\\n',\n 'Colonies\\n',\n 'Mohawk\\n',\n 'Bargrennan\\n',\n 'Brockton\\n',\n 'Cité\\n',\n 'Overholt\\n',\n 'A Dhia\\n',\n 'Rome\\n',\n 'Don Francisco\\n',\n 'the Rue de Varennes\\n',\n 'Orange\\n',\n 'Merbling\\n',\n 'Orange County\\n',\n 'Esq.\\n',\n 'Phoenix\\n',\n 'Trois Flèches\\n',\n 'Aberdeenshire\\n',\n 'Mass\\n',\n 'WATERTOWN\\n',\n 'Mecklenberg\\n',\n 'Newport\\n',\n 'London-town\\n',\n 'Isle Fleur\\n',\n 'the Royal Colony of South Carolina\\n',\n 'Rendill\\n',\n 'Normandy\\n',\n 'Glasgow\\n',\n 'Roanoke\\n',\n 'Coccygodynia\\n',\n 'Haiti\\n',\n 'Staten Island\\n',\n 'Paleyville\\n',\n 'Drumossie Moor\\n',\n 'Talltree\\n',\n 'Buchan\\n',\n 'Walnut Claire\\n',\n 'District\\n',\n 'West Indies\\n',\n 'Norfolk\\n',\n 'Cornwall\\n',\n 'Bethabara\\n',\n 'Drumnadrochit\\n',\n 'Crimond\\n',\n 'Connecticut\\n',\n 'Cambridge\\n',\n 'Michilimackinac\\n',\n 'Kilmarnock\\n',\n 'Huron\\n',\n 'Cheshire\\n',\n 'Boston\\n',\n 'Hodgepile Hodgepile\\n',\n 'Tsatsa’wi’s town\\n',\n 'Hunter\\n',\n 'Ermenegilda\\n',\n 'Evening\\n',\n 'Pollyanne\\n',\n 'the Comte de Palles\\n',\n 'Apulia\\n',\n 'Bennington\\n',\n 'Ocracoke\\n',\n 'Auchterlonie\\n',\n 'South Carolina\\n',\n 'Marie d’Arbanville’s\\n',\n 'UK\\n',\n 'Greenboro\\n',\n 'Findlay\\n',\n 'Beardsleys’\\n',\n 'Beardsley\\n',\n 'St. Giles\\n',\n 'Stirling\\n',\n 'Austria\\n',\n 'Newfoundland\\n',\n 'Pinhão\\n',\n 'Algiers\\n',\n 'the British Empire\\n',\n 'Weaver’s Gorge\\n',\n 'Florence\\n',\n 'BENNINGTON\\n',\n 'Charlotte\\n',\n 'HOUSTON\\n',\n 'Glenfinnan\\n',\n 'Gloucester Harbor\\n',\n 'L’Oignon\\n',\n 'Moray\\n',\n 'Hanover\\n',\n 'the United States\\n',\n 'Kuykendalls\\n',\n 'Wolverhampton\\n',\n 'Willoughby\\n',\n 'LONDON\\n',\n 'St. Clair\\n',\n 'Israel\\n',\n 'Hispaniola\\n',\n 'St. Bride\\n',\n 'O’Clock\\n',\n 'Bethesda\\n',\n 'Tsatsa’wi\\n',\n 'Korea\\n',\n 'Long Island\\n',\n 'Egypt\\n',\n 'New Grace\\n',\n 'England\\n',\n 'Lillington\\n',\n 'North Carolina\\n',\n 'SAVANNAH\\n',\n 'Brookfield\\n',\n 'Hunter’s Point\\n',\n 'Washington\\n',\n 'Bridgetown\\n',\n 'Middletown\\n',\n 'Hallowe’en\\n',\n 'Eskadale\\n',\n 'Camp\\n',\n 'Wakyo’teyehsnonhsa\\n',\n 'Kerse\\n',\n 'Owenawisgu\\n',\n 'Burntisland\\n',\n 'Oxford\\n',\n 'Montreal\\n',\n 'Guinea\\n',\n 'Bug\\n',\n 'Otter-Tooth\\n',\n 'Canada\\n',\n 'Caen\\n',\n 'Castlerigg\\n',\n 'Melk\\n',\n 'Gravesend Bay\\n',\n 'Carteret County\\n',\n 'Ochtertyre\\n',\n 'JNO.\\n',\n 'Province\\n',\n 'Broadway\\n',\n 'the Lake District\\n',\n 'Catawba\\n',\n 'Chesthill\\n',\n 'The Bois de Boulogne\\n',\n 'Hieland\\n',\n 'Ullapool\\n',\n 'Culloden Culloden\\n',\n 'Bellhurst\\n',\n 'Dornoch\\n',\n 'GENEVA\\n',\n 'the West Indies\\n',\n 'Kingston\\n',\n 'Cologne\\n',\n 'Pennsylvania\\n',\n 'Beaujolais\\n',\n 'Saratoga\\n',\n 'Jamestown\\n',\n 'Beaupré\\n',\n 'Ridge\\n',\n 'Ardsmuir village\\n',\n 'Peterhead\\n',\n 'Mohawk village\\n',\n 'Hallo Hallo\\n',\n 'Tewaktenyonh\\n',\n 'Symonds’\\n',\n 'Okwaho\\n',\n 'Surry County\\n',\n 'Antigua\\n',\n 'Amsterdam\\n',\n 'Bilbao\\n',\n 'Holyrood\\n',\n 'Leanach\\n',\n 'Stactoe\\n',\n 'Ephraim\\n',\n 'Quebec\\n',\n 'Reading Furnace\\n',\n 'Saperville\\n',\n 'Nacognaweto\\n',\n 'Pa.\\n',\n 'Buccleigh\\n',\n 'Germain\\n',\n 'Kalanun’yi\\n',\n 'PARIS\\n',\n 'Great Alamance\\n',\n 'Beaufort Cathtle\\n',\n 'China\\n',\n 'Kermanshah\\n',\n 'Asheville\\n',\n 'Balgownie\\n',\n 'Canton\\n',\n 'Shewglie\\n',\n 'St. Anne de Beaupré\\n',\n 'Beannachd\\n',\n 'Hubbardton\\n',\n 'L’Hôpital des Anges\\n',\n 'Kirkcaldy\\n',\n 'Montego Bay\\n',\n 'FitzGibbons\\n',\n 'Bremerton\\n',\n 'Philadelphia\\n',\n 'Langhorne\\n',\n 'Rowan Counties\\n',\n 'Nova Scotia\\n',\n 'Stornoway\\n',\n 'Gaol\\n',\n 'Mecklenburg County\\n',\n 'Scotlan.\\n',\n 'South Caicos\\n',\n 'Bombay\\n',\n 'Inverness\\n',\n 'Dubhlairn\\n',\n 'Mountgerald\\n',\n 'Wentworth\\n',\n 'Valley Forge\\n',\n 'Priestly\\n',\n 'Eureka\\n',\n 'Portsmouth\\n',\n 'Versailles\\n',\n 'Naples\\n',\n 'Straw\\n',\n 'Farquard\\n',\n 'New York\\n',\n 'Tika-ba\\n',\n 'Walnut Grove\\n',\n 'the City of Inverness\\n',\n 'Arbroath\\n',\n 'Cornwallis\\n',\n 'Englishtown\\n',\n 'Balriggan\\n',\n 'Arizona\\n',\n 'Kyle\\n',\n 'Habana\\n',\n 'St. Kilda\\n',\n 'Lochaber\\n',\n 'the Bois de Boulogne\\n',\n 'Pitlochry\\n',\n 'the West Banks\\n',\n 'Lallybroch\\n',\n 'Cuba\\n',\n 'Bannockburn\\n',\n 'Tokyo\\n',\n 'the United States of America\\n',\n 'Spain\\n',\n 'Brittany\\n',\n 'Ghana\\n',\n 'Dorset\\n',\n 'Breadalbin\\n',\n 'Aberfeldy\\n',\n 'London\\n',\n 'Blutwurst\\n',\n 'Middlesex village\\n',\n 'Wako’teqehsnonhsa’s\\n',\n 'Wake County\\n',\n 'Brugge\\n',\n 'Poland\\n',\n 'Aurora\\n',\n 'Cromdale\\n',\n 'Grand Turk\\n',\n 'US\\n',\n 'Yanceyville\\n',\n 'Edenton\\n',\n 'Boise\\n',\n 'Thurso\\n',\n 'Averasboro\\n',\n 'Alderdyce\\n',\n 'Duncansburgh\\n',\n 'Greene\\n',\n 'Baltimore\\n',\n 'Carrubber\\n',\n 'Jocasta Cameron\\n',\n 'Salerno\\n',\n 'Chisholms\\n',\n 'CA\\n',\n 'New Orleans\\n',\n 'Sutherland\\n',\n 'Colenso Baragwanath\\n',\n 'Somerset\\n',\n 'Tryon\\n',\n 'Cockburn Town\\n',\n 'Bristol\\n',\n 'Grandpère\\n',\n 'Valenciennes\\n',\n 'Massachusetts\\n',\n 'Germantown\\n',\n 'the Town of Hillsborough\\n',\n 'Wagga\\n',\n 'the Scottish Highlands\\n',\n 'CUPID’S GROVE\\n',\n 'Laoghaire Claire\\n',\n 'Seneca\\n',\n 'Colenso\\n',\n 'Hershey\\n',\n 'Devonshire\\n',\n 'Campbelton\\n',\n 'San Salvador\\n',\n 'India\\n',\n 'the Comte St. Germain\\n',\n 'Aberdeen\\n',\n 'Ben Aden\\n',\n 'LA\\n',\n 'The Lake District\\n',\n 'Glenmoriston\\n',\n 'Southwark\\n',\n 'Morristown\\n',\n 'Lexington\\n',\n 'Japan\\n',\n 'Kinwallis\\n',\n 'Balnain\\n',\n 'Lyon\\n',\n 'AMERICA\\n',\n 'New Hampshire\\n',\n 'WILMINGTON\\n',\n 'Cape Fear\\n',\n 'Loch Errochty\\n',\n 'Dodanil\\n',\n 'Wyandot\\n',\n 'St. Thomas\\n',\n 'Alamance Creek\\n',\n 'Montauk\\n',\n 'Bahamas\\n',\n 'Ellis Ward\\n',\n 'Broch Mhorda\\n',\n 'Neuf\\n',\n 'Culloden Claire\\n',\n 'Glen Richie\\n',\n 'Manhattan\\n',\n 'Carrara\\n',\n 'Lucklow\\n',\n 'Northumbria\\n',\n 'Hah-vahd Yahd\\n',\n 'Aix\\n',\n 'Columbus\\n',\n 'County Sligo\\n',\n 'Fogden\\n',\n 'Dunstable\\n',\n 'Fergus\\n',\n 'Waterford\\n',\n 'Northumberland\\n',\n 'Dresden\\n',\n 'Paoli\\n',\n 'Sycamore\\n',\n 'Whitburgh\\n',\n 'Tranent\\n',\n 'Quinbrough\\n',\n 'Muldaur\\n',\n 'the Indies\\n',\n 'Trenton\\n',\n 'Dundee\\n',\n 'North\\n',\n 'Lochalsh\\n',\n 'MacDuff\\n',\n 'Onyarekenata\\n',\n 'Kirkinmill\\n',\n 'Oban\\n',\n 'Drumossie\\n',\n 'Bunker Hill\\n',\n 'Tebbe\\n',\n 'Pardloe\\n',\n 'Fort Ticonderoga\\n',\n 'Tulacb Ard\\n',\n 'Loch Linnhe\\n',\n 'Kinnoch\\n',\n 'the City of Savannah\\n',\n 'North Caicos\\n',\n 'Netherlands\\n',\n 'Phila delphia\\n',\n 'Falkirk\\n',\n 'Broch Tuarach\\n',\n 'Whitehall\\n',\n 'Cumberland\\n',\n 'Oneida\\n',\n 'Tsatsa’wi Tsatsa’wi\\n',\n 'Redondo Beach\\n',\n 'St. Denys\\n',\n 'Florida\\n',\n 'St. Ninian\\n']"
     },
     "execution_count": 3,
     "metadata": {},
     "output_type": "execute_result"
    }
   ],
   "source": [
    "f = open(\"locations.txt\", \"r\", encoding=\"utf8\")\n",
    "\n",
    "locs = []\n",
    "for line in f:\n",
    "    locs.append(line)\n",
    "locs = list(set(locs))\n",
    "locs"
   ],
   "metadata": {
    "collapsed": false,
    "ExecuteTime": {
     "start_time": "2023-05-16T18:08:52.788115Z",
     "end_time": "2023-05-16T18:08:52.831419Z"
    }
   }
  },
  {
   "cell_type": "code",
   "execution_count": 4,
   "outputs": [
    {
     "data": {
      "text/plain": "839"
     },
     "execution_count": 4,
     "metadata": {},
     "output_type": "execute_result"
    }
   ],
   "source": [
    "len(locs)"
   ],
   "metadata": {
    "collapsed": false,
    "ExecuteTime": {
     "start_time": "2023-05-16T18:08:53.901552Z",
     "end_time": "2023-05-16T18:08:53.931274Z"
    }
   }
  },
  {
   "cell_type": "code",
   "execution_count": 5,
   "outputs": [],
   "source": [
    "with open('locs_unique.txt', 'a') as f:\n",
    "    for l in locs:\n",
    "        f.write(l)\n",
    "        f.write('\\n')"
   ],
   "metadata": {
    "collapsed": false,
    "ExecuteTime": {
     "start_time": "2023-05-16T18:10:26.935311Z",
     "end_time": "2023-05-16T18:10:26.960268Z"
    }
   }
  },
  {
   "cell_type": "code",
   "execution_count": null,
   "outputs": [],
   "source": [],
   "metadata": {
    "collapsed": false
   }
  }
 ],
 "metadata": {
  "kernelspec": {
   "display_name": "Python 3",
   "language": "python",
   "name": "python3"
  },
  "language_info": {
   "codemirror_mode": {
    "name": "ipython",
    "version": 2
   },
   "file_extension": ".py",
   "mimetype": "text/x-python",
   "name": "python",
   "nbconvert_exporter": "python",
   "pygments_lexer": "ipython2",
   "version": "2.7.6"
  }
 },
 "nbformat": 4,
 "nbformat_minor": 0
}
