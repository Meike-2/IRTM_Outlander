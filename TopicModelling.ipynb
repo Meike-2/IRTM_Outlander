{
 "cells": [
  {
   "cell_type": "markdown",
   "source": [
    "## Preprocessing"
   ],
   "metadata": {
    "collapsed": false
   }
  },
  {
   "cell_type": "code",
   "execution_count": null,
   "outputs": [],
   "source": [
    "!pip install bertopic==0.14.1"
   ],
   "metadata": {
    "collapsed": false
   }
  },
  {
   "cell_type": "code",
   "execution_count": 1,
   "outputs": [],
   "source": [
    "import nltk\n",
    "from nltk.tokenize import RegexpTokenizer\n",
    "from nltk.corpus import stopwords\n",
    "\n",
    "nltk.download('stopwords')\n",
    "nltk.download('punkt')\n",
    "nltk.download('wordnet')\n",
    "\n",
    "from gensim import corpora\n",
    "from gensim.models import Nmf\n",
    "from gensim.models import LsiModel\n",
    "\n",
    "from nltk.stem.porter import PorterStemmer\n",
    "from gensim.models.coherencemodel import CoherenceModel"
   ],
   "metadata": {
    "collapsed": false,
    "ExecuteTime": {
     "start_time": "2023-05-25T12:11:36.373256Z",
     "end_time": "2023-05-25T12:11:41.984243Z"
    }
   }
  },
  {
   "cell_type": "code",
   "execution_count": 2,
   "outputs": [],
   "source": [
    "books = ['Outlander', 'Dragonfly in Amber', 'Voyager', 'Drums of Autumn', 'The Fiery Cross', 'A Breath of Snow and Ashes',\n",
    "         'An Echo in the Bone', 'Written in My Own Heart’s Blood']\n",
    "extras = ['Other Books by this Author', 'About the Author']\n",
    "bookstarts = [50, 17287, 37378, 61857, 89432, 119494, 152540, 177800, 202059]"
   ],
   "metadata": {
    "collapsed": false,
    "ExecuteTime": {
     "start_time": "2023-05-25T12:11:41.987234Z",
     "end_time": "2023-05-25T12:11:42.000201Z"
    }
   }
  },
  {
   "cell_type": "code",
   "execution_count": 3,
   "outputs": [],
   "source": [
    "books = []\n",
    "for i in range(1, 9):\n",
    "    f = open(\"data.txt\", \"r\", encoding=\"utf8\")\n",
    "\n",
    "    book = ''\n",
    "    j=0\n",
    "    for line in f:\n",
    "        if bookstarts[i] > j > bookstarts[i - 1]:\n",
    "            book = book + line\n",
    "        j+=1\n",
    "    books.append(book)"
   ],
   "metadata": {
    "collapsed": false,
    "ExecuteTime": {
     "start_time": "2023-05-25T12:11:42.005189Z",
     "end_time": "2023-05-25T12:12:10.855997Z"
    }
   }
  },
  {
   "cell_type": "code",
   "execution_count": 145,
   "outputs": [],
   "source": [
    "import re\n",
    "\n",
    "def split_into_chapters(text, i):\n",
    "    if i<7:\n",
    "        no_start = re.split(r'PART ONE\\n\\n', text)[1]\n",
    "        no_end = re.split(r'ACKNOWLEDGMENTS', no_start)[0]\n",
    "        return re.split(r'\\n[0-9]+\\n\\n', no_end)\n",
    "    elif i==7:\n",
    "        no_start = re.split(r'PART ONE\\n\\n', text)[1]\n",
    "        no_end = re.split(r'AUTHOR’S NOTES', no_start)[0]\n",
    "        return re.split(r'\\n\\n\\n[A-Z ]+\\n\\n', no_end)\n",
    "    elif i==8:\n",
    "        no_start = re.split(r'A HUNDREDWEIGHT OF STONES', text)[1]\n",
    "        no_end = re.split(r'AUTHOR’S NOTES', no_start)[0]\n",
    "        return re.split(r'\\n\\n\\n\\n\\n\\n', no_end)\n",
    "\n",
    "book_chaps = []\n",
    "i = 1\n",
    "for book in books:\n",
    "    book_chaps.append(split_into_chapters(book, i))\n",
    "    i+=1"
   ],
   "metadata": {
    "collapsed": false,
    "ExecuteTime": {
     "start_time": "2023-05-26T01:12:06.134148Z",
     "end_time": "2023-05-26T01:12:06.589594Z"
    }
   }
  },
  {
   "cell_type": "code",
   "execution_count": 5,
   "outputs": [],
   "source": [
    "all_chaps = [item for sublist in book_chaps for item in sublist]"
   ],
   "metadata": {
    "collapsed": false,
    "ExecuteTime": {
     "start_time": "2023-05-25T12:12:11.188112Z",
     "end_time": "2023-05-25T12:12:11.378598Z"
    }
   }
  },
  {
   "cell_type": "code",
   "execution_count": 26,
   "outputs": [],
   "source": [
    "def prepare_corpus(clean_docs):\n",
    "    dictionary = corpora.Dictionary(clean_docs)\n",
    "    doc_term_matrix = [dictionary.doc2bow(doc) for doc in clean_docs]\n",
    "    return dictionary,doc_term_matrix"
   ],
   "metadata": {
    "collapsed": false
   }
  },
  {
   "cell_type": "code",
   "execution_count": 27,
   "outputs": [],
   "source": [
    "from nltk.stem import WordNetLemmatizer\n",
    "\n",
    "\n",
    "def preprocess_data_lem(doc_set, word95):\n",
    "    tokenizer = RegexpTokenizer(r'\\w+')\n",
    "    en_stop = set(stopwords.words('english'))\n",
    "    lemmatizer = WordNetLemmatizer()\n",
    "    texts = []\n",
    "\n",
    "    for i in doc_set:\n",
    "        raw = i.lower()\n",
    "        tokens = tokenizer.tokenize(raw)\n",
    "        stopped_tokens = [i for i in tokens if not i in en_stop]\n",
    "        stemmed_tokens = [lemmatizer.lemmatize(i) for i in stopped_tokens]\n",
    "        stemmed_tokens = [i for i in stemmed_tokens if not i in word95]\n",
    "        texts.append(stemmed_tokens)\n",
    "    return texts\n"
   ],
   "metadata": {
    "collapsed": false
   }
  },
  {
   "cell_type": "code",
   "execution_count": 191,
   "outputs": [],
   "source": [
    "import matplotlib.pyplot as plt\n",
    "import numpy as np\n",
    "import pandas as pd\n",
    "\n",
    "def NMF_visualisation(model_topics):\n",
    "    l = len(model_topics)\n",
    "    columns = 4\n",
    "    rows = math.ceil(l/4)\n",
    "    fig, ax = plt.subplots(rows, columns, figsize=(10, 10))\n",
    "    fig.suptitle('Topic Word Scores', fontsize=30)\n",
    "    fig.tight_layout(pad=2)\n",
    "    ax = ax.flatten()\n",
    "    colours = ['red', 'blue', 'pink', 'orange', 'green', 'purple', 'yellow']\n",
    "    for index, row in model_topics:\n",
    "        words_all = row.split('\" + ')\n",
    "        words = []\n",
    "        scores = []\n",
    "        for i in range(5):\n",
    "            w = words_all[i]\n",
    "            score = w.split('*\"')[0]\n",
    "            scores.append(score)\n",
    "            word = w.split('*\"')[1]\n",
    "            words.append(word)\n",
    "\n",
    "        y_pos = np.arange(len(words))\n",
    "        scores = np.asarray(scores, dtype=float)\n",
    "\n",
    "        pd.Series(scores).plot(kind='barh', x='LABEL',ax=ax[index], color=colours[(index-1)%7])\n",
    "        ax[index].set_yticks(y_pos, labels=words)\n",
    "        ax[index].invert_yaxis()\n",
    "        ax[index].set_title('Topic '+str(index))\n",
    "\n",
    "    plt.show()\n",
    "\n",
    "    plt.savefig('NMF2.png', transparent=True,bbox_inches='tight')\n"
   ],
   "metadata": {
    "collapsed": false,
    "ExecuteTime": {
     "start_time": "2023-05-26T12:08:28.195843Z",
     "end_time": "2023-05-26T12:08:28.212578Z"
    }
   }
  },
  {
   "cell_type": "markdown",
   "source": [
    "## Initial"
   ],
   "metadata": {
    "collapsed": false
   }
  },
  {
   "cell_type": "code",
   "execution_count": 184,
   "outputs": [
    {
     "data": {
      "text/plain": "0.27993544660523145"
     },
     "execution_count": 184,
     "metadata": {},
     "output_type": "execute_result"
    }
   ],
   "source": [
    "clean_docs=preprocess_data_lem(all_chaps, [])\n",
    "\n",
    "dictionary,doc_term_matrix=prepare_corpus(clean_docs)\n",
    "nmf_topic_model = Nmf(\n",
    "        corpus = doc_term_matrix,\n",
    "        id2word = dictionary,\n",
    "        num_topics = 10,\n",
    "        random_state = 100,\n",
    "        passes=11\n",
    "    )\n",
    "coherencemodel = CoherenceModel(model=nmf_topic_model, texts=clean_docs, dictionary=dictionary, coherence='c_v')\n",
    "score = coherencemodel.get_coherence()\n",
    "score"
   ],
   "metadata": {
    "collapsed": false,
    "ExecuteTime": {
     "start_time": "2023-05-26T12:03:08.404756Z",
     "end_time": "2023-05-26T12:04:13.825267Z"
    }
   }
  },
  {
   "cell_type": "code",
   "execution_count": 185,
   "outputs": [
    {
     "name": "stdout",
     "output_type": "stream",
     "text": [
      "Representative words of topic 0: 0.019*\"ye\" + 0.009*\"back\" + 0.008*\"jamie\" + 0.007*\"one\" + 0.007*\"said\" + 0.007*\"hand\" + 0.005*\"like\" + 0.005*\"could\" + 0.005*\"though\" + 0.005*\"thought\".\n",
      "Representative words of topic 1: 0.016*\"said\" + 0.013*\"mr\" + 0.008*\"one\" + 0.005*\"back\" + 0.005*\"like\" + 0.005*\"hand\" + 0.005*\"eye\" + 0.004*\"know\" + 0.004*\"well\" + 0.004*\"could\".\n",
      "Representative words of topic 2: 0.020*\"said\" + 0.014*\"william\" + 0.008*\"though\" + 0.006*\"one\" + 0.006*\"would\" + 0.006*\"thought\" + 0.006*\"could\" + 0.005*\"back\" + 0.005*\"think\" + 0.005*\"know\".\n",
      "Representative words of topic 3: 0.015*\"hand\" + 0.014*\"said\" + 0.009*\"could\" + 0.008*\"face\" + 0.008*\"would\" + 0.007*\"eye\" + 0.006*\"one\" + 0.006*\"men\" + 0.006*\"jamie\" + 0.006*\"man\".\n",
      "Representative words of topic 4: 0.035*\"roger\" + 0.013*\"said\" + 0.009*\"brianna\" + 0.006*\"thought\" + 0.006*\"one\" + 0.006*\"though\" + 0.005*\"back\" + 0.005*\"like\" + 0.005*\"know\" + 0.005*\"would\".\n",
      "Representative words of topic 5: 0.014*\"brianna\" + 0.010*\"jocasta\" + 0.009*\"fraser\" + 0.007*\"duncan\" + 0.006*\"would\" + 0.006*\"eye\" + 0.006*\"face\" + 0.006*\"man\" + 0.005*\"hand\" + 0.005*\"mr\".\n",
      "Representative words of topic 6: 0.037*\"jamie\" + 0.029*\"said\" + 0.017*\"ye\" + 0.008*\"well\" + 0.007*\"one\" + 0.007*\"aye\" + 0.006*\"think\" + 0.006*\"sassenach\" + 0.005*\"head\" + 0.005*\"though\".\n",
      "Representative words of topic 7: 0.008*\"one\" + 0.008*\"back\" + 0.007*\"could\" + 0.007*\"hand\" + 0.007*\"like\" + 0.005*\"though\" + 0.005*\"head\" + 0.005*\"foot\" + 0.005*\"still\" + 0.005*\"water\".\n",
      "Representative words of topic 8: 0.022*\"jamie\" + 0.009*\"fraser\" + 0.008*\"man\" + 0.008*\"would\" + 0.007*\"grey\" + 0.007*\"men\" + 0.007*\"one\" + 0.006*\"mr\" + 0.005*\"might\" + 0.005*\"though\".\n",
      "Representative words of topic 9: 0.036*\"ian\" + 0.020*\"said\" + 0.020*\"ye\" + 0.008*\"hand\" + 0.008*\"jamie\" + 0.008*\"back\" + 0.008*\"young\" + 0.007*\"face\" + 0.006*\"like\" + 0.006*\"aye\".\n"
     ]
    },
    {
     "data": {
      "text/plain": "    Number                                              Words\n1        0  0.019*\"ye\" + 0.009*\"back\" + 0.008*\"jamie\" + 0....\n2        1  0.016*\"said\" + 0.013*\"mr\" + 0.008*\"one\" + 0.00...\n3        2  0.020*\"said\" + 0.014*\"william\" + 0.008*\"though...\n4        3  0.015*\"hand\" + 0.014*\"said\" + 0.009*\"could\" + ...\n5        4  0.035*\"roger\" + 0.013*\"said\" + 0.009*\"brianna\"...\n6        5  0.014*\"brianna\" + 0.010*\"jocasta\" + 0.009*\"fra...\n7        6  0.037*\"jamie\" + 0.029*\"said\" + 0.017*\"ye\" + 0....\n8        7  0.008*\"one\" + 0.008*\"back\" + 0.007*\"could\" + 0...\n9        8  0.022*\"jamie\" + 0.009*\"fraser\" + 0.008*\"man\" +...\n10       9  0.036*\"ian\" + 0.020*\"said\" + 0.020*\"ye\" + 0.00...",
      "text/html": "<div>\n<style scoped>\n    .dataframe tbody tr th:only-of-type {\n        vertical-align: middle;\n    }\n\n    .dataframe tbody tr th {\n        vertical-align: top;\n    }\n\n    .dataframe thead th {\n        text-align: right;\n    }\n</style>\n<table border=\"1\" class=\"dataframe\">\n  <thead>\n    <tr style=\"text-align: right;\">\n      <th></th>\n      <th>Number</th>\n      <th>Words</th>\n    </tr>\n  </thead>\n  <tbody>\n    <tr>\n      <th>1</th>\n      <td>0</td>\n      <td>0.019*\"ye\" + 0.009*\"back\" + 0.008*\"jamie\" + 0....</td>\n    </tr>\n    <tr>\n      <th>2</th>\n      <td>1</td>\n      <td>0.016*\"said\" + 0.013*\"mr\" + 0.008*\"one\" + 0.00...</td>\n    </tr>\n    <tr>\n      <th>3</th>\n      <td>2</td>\n      <td>0.020*\"said\" + 0.014*\"william\" + 0.008*\"though...</td>\n    </tr>\n    <tr>\n      <th>4</th>\n      <td>3</td>\n      <td>0.015*\"hand\" + 0.014*\"said\" + 0.009*\"could\" + ...</td>\n    </tr>\n    <tr>\n      <th>5</th>\n      <td>4</td>\n      <td>0.035*\"roger\" + 0.013*\"said\" + 0.009*\"brianna\"...</td>\n    </tr>\n    <tr>\n      <th>6</th>\n      <td>5</td>\n      <td>0.014*\"brianna\" + 0.010*\"jocasta\" + 0.009*\"fra...</td>\n    </tr>\n    <tr>\n      <th>7</th>\n      <td>6</td>\n      <td>0.037*\"jamie\" + 0.029*\"said\" + 0.017*\"ye\" + 0....</td>\n    </tr>\n    <tr>\n      <th>8</th>\n      <td>7</td>\n      <td>0.008*\"one\" + 0.008*\"back\" + 0.007*\"could\" + 0...</td>\n    </tr>\n    <tr>\n      <th>9</th>\n      <td>8</td>\n      <td>0.022*\"jamie\" + 0.009*\"fraser\" + 0.008*\"man\" +...</td>\n    </tr>\n    <tr>\n      <th>10</th>\n      <td>9</td>\n      <td>0.036*\"ian\" + 0.020*\"said\" + 0.020*\"ye\" + 0.00...</td>\n    </tr>\n  </tbody>\n</table>\n</div>"
     },
     "execution_count": 185,
     "metadata": {},
     "output_type": "execute_result"
    }
   ],
   "source": [
    "import pandas as pd\n",
    "\n",
    "df = pd.DataFrame(columns=['Number', 'Words'])\n",
    "\n",
    "i=1\n",
    "for topic_num, words in nmf_topic_model.show_topics():\n",
    "    df.loc[i] = [topic_num, words]\n",
    "    i+=1\n",
    "    print('Representative words of topic {}: {}.'.format(topic_num, words))\n",
    "\n",
    "df"
   ],
   "metadata": {
    "collapsed": false,
    "ExecuteTime": {
     "start_time": "2023-05-26T12:04:13.857937Z",
     "end_time": "2023-05-26T12:04:14.125797Z"
    }
   }
  },
  {
   "cell_type": "code",
   "execution_count": 192,
   "outputs": [
    {
     "data": {
      "text/plain": "<Figure size 720x720 with 12 Axes>",
      "image/png": "[encoded data removed]"
     },
     "metadata": {
      "needs_background": "light"
     },
     "output_type": "display_data"
    },
    {
     "data": {
      "text/plain": "<Figure size 432x288 with 0 Axes>"
     },
     "metadata": {},
     "output_type": "display_data"
    }
   ],
   "source": [
    "NMF_visualisation(nmf_topic_model.print_topics())"
   ],
   "metadata": {
    "collapsed": false,
    "ExecuteTime": {
     "start_time": "2023-05-26T12:08:33.055954Z",
     "end_time": "2023-05-26T12:08:34.715781Z"
    }
   }
  },
  {
   "cell_type": "markdown",
   "source": [
    "## Remove words in 95% of chapters"
   ],
   "metadata": {
    "collapsed": false
   }
  },
  {
   "cell_type": "code",
   "execution_count": 93,
   "outputs": [],
   "source": [
    "import math\n",
    "\n",
    "def get_95_words(chap_list):\n",
    "    min_count = math.floor(0.05*len(chap_list))\n",
    "    words_all = []\n",
    "    for i in range(min_count):\n",
    "        words_all = words_all + re.findall(r\"[\\w']+|[.,!?;]\", chap_list[i])\n",
    "    words_all = list(set([x.lower() for x in words_all]))\n",
    "    words95 = []\n",
    "    print(len(words_all))\n",
    "    for word in words_all:\n",
    "        count = 0\n",
    "        for chap in chap_list:\n",
    "            if word not in chap.lower():\n",
    "                count += 1\n",
    "        if count <= min_count:\n",
    "            words95.append(word)\n",
    "    return words95"
   ],
   "metadata": {
    "collapsed": false,
    "ExecuteTime": {
     "start_time": "2023-05-25T23:38:09.328350Z",
     "end_time": "2023-05-25T23:38:09.351491Z"
    }
   }
  },
  {
   "cell_type": "code",
   "execution_count": 94,
   "outputs": [
    {
     "name": "stdout",
     "output_type": "stream",
     "text": [
      "14206\n"
     ]
    },
    {
     "data": {
      "text/plain": "197"
     },
     "execution_count": 94,
     "metadata": {},
     "output_type": "execute_result"
    }
   ],
   "source": [
    "words95 = get_95_words(all_chaps)\n",
    "len(words95)"
   ],
   "metadata": {
    "collapsed": false,
    "ExecuteTime": {
     "start_time": "2023-05-25T23:38:10.016266Z",
     "end_time": "2023-05-26T00:01:03.117769Z"
    }
   }
  },
  {
   "cell_type": "code",
   "execution_count": 97,
   "outputs": [
    {
     "data": {
      "text/plain": "0.30336106951858977"
     },
     "execution_count": 97,
     "metadata": {},
     "output_type": "execute_result"
    }
   ],
   "source": [
    "clean_docs1=preprocess_data_lem(all_chaps, words95)\n",
    "\n",
    "dictionary1,doc_term_matrix1=prepare_corpus(clean_docs1)\n",
    "nmf_topic_model1 = Nmf(\n",
    "        corpus = doc_term_matrix1,\n",
    "        id2word = dictionary1,\n",
    "        num_topics = 16,\n",
    "        random_state = 100,\n",
    "        passes=27\n",
    "    )\n",
    "coherencemodel = CoherenceModel(model=nmf_topic_model1, texts=clean_docs1, dictionary=dictionary1, coherence='c_v')\n",
    "score = coherencemodel.get_coherence()\n",
    "score"
   ],
   "metadata": {
    "collapsed": false,
    "ExecuteTime": {
     "start_time": "2023-05-26T00:01:12.163746Z",
     "end_time": "2023-05-26T00:02:40.496834Z"
    }
   }
  },
  {
   "cell_type": "code",
   "execution_count": 98,
   "outputs": [
    {
     "name": "stdout",
     "output_type": "stream",
     "text": [
      "Representative words of topic 3: 0.009*\"well\" + 0.008*\"thought\" + 0.007*\"know\" + 0.006*\"bed\" + 0.006*\"think\" + 0.005*\"bit\" + 0.005*\"might\" + 0.005*\"good\" + 0.005*\"small\" + 0.004*\"still\".\n",
      "Representative words of topic 14: 0.021*\"mr\" + 0.007*\"door\" + 0.006*\"house\" + 0.006*\"face\" + 0.005*\"jamie\" + 0.004*\"small\" + 0.004*\"room\" + 0.004*\"come\" + 0.004*\"turned\" + 0.004*\"woman\".\n",
      "Representative words of topic 6: 0.006*\"know\" + 0.006*\"randall\" + 0.006*\"well\" + 0.005*\"thought\" + 0.005*\"good\" + 0.005*\"get\" + 0.005*\"right\" + 0.004*\"bit\" + 0.004*\"stone\" + 0.004*\"sir\".\n",
      "Representative words of topic 10: 0.055*\"roger\" + 0.016*\"brianna\" + 0.008*\"claire\" + 0.006*\"face\" + 0.005*\"fraser\" + 0.005*\"thought\" + 0.005*\"buck\" + 0.004*\"know\" + 0.004*\"come\" + 0.004*\"felt\".\n",
      "Representative words of topic 7: 0.038*\"ian\" + 0.020*\"jamie\" + 0.009*\"young\" + 0.008*\"face\" + 0.007*\"aye\" + 0.006*\"jenny\" + 0.006*\"well\" + 0.005*\"looked\" + 0.005*\"uncle\" + 0.004*\"think\".\n",
      "Representative words of topic 15: 0.012*\"jamie\" + 0.005*\"small\" + 0.005*\"boy\" + 0.004*\"army\" + 0.004*\"cottage\" + 0.004*\"shoulder\" + 0.004*\"fire\" + 0.004*\"face\" + 0.004*\"behind\" + 0.004*\"battle\".\n",
      "Representative words of topic 1: 0.027*\"jamie\" + 0.010*\"colum\" + 0.009*\"dougal\" + 0.007*\"face\" + 0.005*\"horse\" + 0.005*\"geilie\" + 0.004*\"still\" + 0.004*\"foot\" + 0.004*\"turned\" + 0.004*\"u\".\n",
      "Representative words of topic 0: 0.021*\"fraser\" + 0.011*\"jamie\" + 0.010*\"face\" + 0.010*\"grey\" + 0.006*\"brianna\" + 0.006*\"small\" + 0.005*\"major\" + 0.005*\"turned\" + 0.004*\"father\" + 0.004*\"looked\".\n",
      "Representative words of topic 9: 0.019*\"mr\" + 0.011*\"roger\" + 0.009*\"jemmy\" + 0.009*\"father\" + 0.007*\"brianna\" + 0.006*\"oh\" + 0.005*\"bree\" + 0.005*\"lillywhite\" + 0.005*\"voice\" + 0.005*\"well\".\n",
      "Representative words of topic 8: 0.033*\"william\" + 0.007*\"murray\" + 0.006*\"thought\" + 0.004*\"think\" + 0.004*\"father\" + 0.004*\"might\" + 0.004*\"know\" + 0.004*\"made\" + 0.004*\"rogers\" + 0.004*\"face\".\n"
     ]
    },
    {
     "data": {
      "text/plain": "    Number                                              Words\n1        3  0.009*\"well\" + 0.008*\"thought\" + 0.007*\"know\" ...\n2       14  0.021*\"mr\" + 0.007*\"door\" + 0.006*\"house\" + 0....\n3        6  0.006*\"know\" + 0.006*\"randall\" + 0.006*\"well\" ...\n4       10  0.055*\"roger\" + 0.016*\"brianna\" + 0.008*\"clair...\n5        7  0.038*\"ian\" + 0.020*\"jamie\" + 0.009*\"young\" + ...\n6       15  0.012*\"jamie\" + 0.005*\"small\" + 0.005*\"boy\" + ...\n7        1  0.027*\"jamie\" + 0.010*\"colum\" + 0.009*\"dougal\"...\n8        0  0.021*\"fraser\" + 0.011*\"jamie\" + 0.010*\"face\" ...\n9        9  0.019*\"mr\" + 0.011*\"roger\" + 0.009*\"jemmy\" + 0...\n10       8  0.033*\"william\" + 0.007*\"murray\" + 0.006*\"thou...",
      "text/html": "<div>\n<style scoped>\n    .dataframe tbody tr th:only-of-type {\n        vertical-align: middle;\n    }\n\n    .dataframe tbody tr th {\n        vertical-align: top;\n    }\n\n    .dataframe thead th {\n        text-align: right;\n    }\n</style>\n<table border=\"1\" class=\"dataframe\">\n  <thead>\n    <tr style=\"text-align: right;\">\n      <th></th>\n      <th>Number</th>\n      <th>Words</th>\n    </tr>\n  </thead>\n  <tbody>\n    <tr>\n      <th>1</th>\n      <td>3</td>\n      <td>0.009*\"well\" + 0.008*\"thought\" + 0.007*\"know\" ...</td>\n    </tr>\n    <tr>\n      <th>2</th>\n      <td>14</td>\n      <td>0.021*\"mr\" + 0.007*\"door\" + 0.006*\"house\" + 0....</td>\n    </tr>\n    <tr>\n      <th>3</th>\n      <td>6</td>\n      <td>0.006*\"know\" + 0.006*\"randall\" + 0.006*\"well\" ...</td>\n    </tr>\n    <tr>\n      <th>4</th>\n      <td>10</td>\n      <td>0.055*\"roger\" + 0.016*\"brianna\" + 0.008*\"clair...</td>\n    </tr>\n    <tr>\n      <th>5</th>\n      <td>7</td>\n      <td>0.038*\"ian\" + 0.020*\"jamie\" + 0.009*\"young\" + ...</td>\n    </tr>\n    <tr>\n      <th>6</th>\n      <td>15</td>\n      <td>0.012*\"jamie\" + 0.005*\"small\" + 0.005*\"boy\" + ...</td>\n    </tr>\n    <tr>\n      <th>7</th>\n      <td>1</td>\n      <td>0.027*\"jamie\" + 0.010*\"colum\" + 0.009*\"dougal\"...</td>\n    </tr>\n    <tr>\n      <th>8</th>\n      <td>0</td>\n      <td>0.021*\"fraser\" + 0.011*\"jamie\" + 0.010*\"face\" ...</td>\n    </tr>\n    <tr>\n      <th>9</th>\n      <td>9</td>\n      <td>0.019*\"mr\" + 0.011*\"roger\" + 0.009*\"jemmy\" + 0...</td>\n    </tr>\n    <tr>\n      <th>10</th>\n      <td>8</td>\n      <td>0.033*\"william\" + 0.007*\"murray\" + 0.006*\"thou...</td>\n    </tr>\n  </tbody>\n</table>\n</div>"
     },
     "execution_count": 98,
     "metadata": {},
     "output_type": "execute_result"
    }
   ],
   "source": [
    "import pandas as pd\n",
    "\n",
    "df1 = pd.DataFrame(columns=['Number', 'Words'])\n",
    "\n",
    "i=1\n",
    "for topic_num, words in nmf_topic_model1.show_topics():\n",
    "    df1.loc[i] = [topic_num, words]\n",
    "    i+=1\n",
    "    print('Representative words of topic {}: {}.'.format(topic_num, words))\n",
    "\n",
    "df1"
   ],
   "metadata": {
    "collapsed": false,
    "ExecuteTime": {
     "start_time": "2023-05-26T00:02:40.547675Z",
     "end_time": "2023-05-26T00:02:40.795826Z"
    }
   }
  },
  {
   "cell_type": "code",
   "execution_count": 193,
   "outputs": [
    {
     "data": {
      "text/plain": "<Figure size 720x720 with 16 Axes>",
      "image/png": "[encoded data removed]"
     },
     "metadata": {
      "needs_background": "light"
     },
     "output_type": "display_data"
    },
    {
     "data": {
      "text/plain": "<Figure size 432x288 with 0 Axes>"
     },
     "metadata": {},
     "output_type": "display_data"
    }
   ],
   "source": [
    "NMF_visualisation(nmf_topic_model1.print_topics())"
   ],
   "metadata": {
    "collapsed": false,
    "ExecuteTime": {
     "start_time": "2023-05-26T12:09:46.024185Z",
     "end_time": "2023-05-26T12:09:48.516183Z"
    }
   }
  },
  {
   "cell_type": "markdown",
   "source": [
    "## And remove words that are not english"
   ],
   "metadata": {
    "collapsed": false
   }
  },
  {
   "cell_type": "code",
   "execution_count": null,
   "outputs": [],
   "source": [
    "import math\n",
    "import PyDictionary\n",
    "\n",
    "dictionary=PyDictionary()\n",
    "\n",
    "def get_95_unknown_words(chap_list):\n",
    "    min_count = math.floor(0.05*len(chap_list))\n",
    "    words_all = []\n",
    "    for i in range(len(chap_list)):\n",
    "        words_all = words_all + re.findall(r\"[\\w']+|[.,!?;]\", chap_list[i])\n",
    "    words_all = list(set([x.lower() for x in words_all]))\n",
    "    words95 = []\n",
    "    print(len(words_all))\n",
    "    for word in words_all:\n",
    "        if dictionary.meaning(word,True) is None:\n",
    "            words95.append(word)\n",
    "            print(word)\n",
    "        else:\n",
    "            count = 0\n",
    "            for chap in chap_list:\n",
    "                if word not in chap.lower():\n",
    "                    count += 1\n",
    "            if count <= min_count:\n",
    "                words95.append(word)\n",
    "                print(word)\n",
    "    return words95\n",
    "\n"
   ],
   "metadata": {
    "collapsed": false
   }
  },
  {
   "cell_type": "code",
   "execution_count": 7,
   "outputs": [
    {
     "data": {
      "text/plain": "3445"
     },
     "execution_count": 7,
     "metadata": {},
     "output_type": "execute_result"
    }
   ],
   "source": [
    "words95unkown = get_95_words(all_chaps)\n",
    "len(words95)"
   ],
   "metadata": {
    "collapsed": false
   }
  },
  {
   "cell_type": "markdown",
   "source": [],
   "metadata": {
    "collapsed": false
   }
  },
  {
   "cell_type": "code",
   "execution_count": null,
   "outputs": [],
   "source": [
    "for w in words95unkown:\n",
    "    with open('words95.txt', 'a') as f:\n",
    "        f.write(w)\n",
    "        f.write('\\n')"
   ],
   "metadata": {
    "collapsed": false
   }
  },
  {
   "cell_type": "code",
   "execution_count": 108,
   "outputs": [],
   "source": [
    "words95unkown = []\n",
    "\n",
    "with open(\"words95.txt\", \"r\", encoding=\"utf8\") as f:\n",
    "    f = f.read().splitlines()\n",
    "for word in f:\n",
    "    words95unkown.append(word)"
   ],
   "metadata": {
    "collapsed": false,
    "ExecuteTime": {
     "start_time": "2023-05-26T00:09:53.347113Z",
     "end_time": "2023-05-26T00:09:53.405139Z"
    }
   }
  },
  {
   "cell_type": "code",
   "execution_count": 109,
   "outputs": [],
   "source": [
    "all_chaps_clean = []\n",
    "for chap in all_chaps:\n",
    "    chap_words = re.findall(r\"[\\w']+|[.,!?;]\", chap)\n",
    "    resultwords  = [word for word in chap_words if word.lower() not in words95unkown]\n",
    "    result = ' '.join(resultwords)\n",
    "    all_chaps_clean.append(result)"
   ],
   "metadata": {
    "collapsed": false,
    "ExecuteTime": {
     "start_time": "2023-05-26T00:09:55.760353Z",
     "end_time": "2023-05-26T00:12:25.597025Z"
    }
   }
  },
  {
   "cell_type": "markdown",
   "source": [
    "## BerTopic"
   ],
   "metadata": {
    "collapsed": false
   }
  },
  {
   "cell_type": "code",
   "execution_count": 39,
   "outputs": [],
   "source": [
    "from bertopic import BERTopic\n",
    "from sklearn.feature_extraction.text import CountVectorizer\n",
    "\n",
    "vectorizer_model = CountVectorizer(ngram_range=(1, 2), stop_words=\"english\")\n",
    "topic_model = BERTopic(nr_topics=16, vectorizer_model=vectorizer_model)\n",
    "topics, probs = topic_model.fit_transform(all_chaps_clean)"
   ],
   "metadata": {
    "collapsed": false
   }
  },
  {
   "cell_type": "code",
   "execution_count": 40,
   "outputs": [
    {
     "data": {
      "text/plain": "{-1: [('nodded', 0.004370569195400164),\n  ('night', 0.004109490970211356),\n  ('father', 0.003994274386631395),\n  ('grey', 0.0039770106167579715),\n  ('yes', 0.00397039639629712),\n  ('seen', 0.003905949452673916),\n  ('shoulder', 0.0037566451054168526),\n  ('sassenach', 0.0036441008486077114),\n  ('slowly', 0.0036188517507317326),\n  ('god', 0.003607283301773309)],\n 0: [('ship', 0.011642433909795408),\n  ('deck', 0.007482699232070337),\n  ('captain', 0.006900344559114202),\n  ('sea', 0.00663106611060394),\n  ('rail', 0.006553331033381868),\n  ('stern', 0.005900655671807394),\n  ('wind', 0.005218068469535213),\n  ('god', 0.005116336573247222),\n  ('yes', 0.004785097973473602),\n  ('father', 0.004726290384881948)],\n 1: [('hale', 0.005592162884632738),\n  ('course', 0.00525859722865866),\n  ('seen', 0.005143810647892967),\n  ('higgins', 0.005075560124206726),\n  ('friend', 0.0045618127583762595),\n  ('matter', 0.004296650228565162),\n  ('having', 0.004279369061306294),\n  ('tom', 0.004271882136034325),\n  ('father', 0.004236661240929882),\n  ('captain', 0.004152610723633301)],\n 2: [('general', 0.01044540325633918),\n  ('army', 0.00750735730025514),\n  ('sir', 0.006713193227707131),\n  ('british', 0.006197688085880043),\n  ('grey', 0.006101830676715591),\n  ('yes', 0.005753772954872951),\n  ('camp', 0.005505030033467224),\n  ('seen', 0.0046308919778242095),\n  ('captain', 0.0045802078985694075),\n  ('lord', 0.004323600649513474)],\n 3: [('father', 0.005365785117334802),\n  ('slowly', 0.004955649973935426),\n  ('place', 0.0044636975644739155),\n  ('old', 0.0044381304113706626),\n  ('years', 0.0043200101568672405),\n  ('yes', 0.004300287355397032),\n  ('stone', 0.004266216405636561),\n  ('mother', 0.0042032349105491015),\n  ('night', 0.004011280571430355),\n  ('home', 0.0039960424169540945)],\n 4: [('mother', 0.00972670653041323),\n  ('father', 0.006885325391208527),\n  ('maybe', 0.006834504197689647),\n  ('yes', 0.005447204068460506),\n  ('stones', 0.005447124200998919),\n  ('scotland', 0.005073708521910466),\n  ('old', 0.005070652906852166),\n  ('car', 0.005007676800689118),\n  ('read', 0.004828184687831052),\n  ('heart', 0.004735783690252534)],\n 5: [('horse', 0.006723106876434622),\n  ('road', 0.004747754870148255),\n  ('night', 0.004600302203264404),\n  ('sassenach', 0.004300086082282521),\n  ('shoulder', 0.0042599230463440125),\n  ('place', 0.004217342926418555),\n  ('ground', 0.004208536913596625),\n  ('slowly', 0.0041835986297142),\n  ('seen', 0.003946520975795861),\n  ('throat', 0.003779758714943258)],\n 6: [('snow', 0.00643658956730144),\n  ('trees', 0.00549740336387521),\n  ('bear', 0.005312146772516154),\n  ('cabin', 0.005052457629172197),\n  ('slowly', 0.004689221586842092),\n  ('night', 0.004466426348320768),\n  ('leaves', 0.004387809649780358),\n  ('foot', 0.0043797953563894905),\n  ('wood', 0.004332998122390071),\n  ('shoulder', 0.004326888837487813)],\n 7: [('child', 0.00765499735248638),\n  ('sassenach', 0.007283753240616344),\n  ('night', 0.007052229231142388),\n  ('dream', 0.006742178326618648),\n  ('sleep', 0.006560589205980838),\n  ('smoke', 0.006229743220449713),\n  ('room', 0.006165221945180213),\n  ('skin', 0.005855852844611222),\n  ('madame', 0.005697565748768645),\n  ('woman', 0.005472849295208432)],\n 8: [('madame', 0.009968598045388582),\n  ('monsieur', 0.007863572450373281),\n  ('comte', 0.007119952369574095),\n  ('highness', 0.006372585279655268),\n  ('room', 0.006370965900645383),\n  ('yes', 0.005970515664648933),\n  ('paris', 0.0056448910454203576),\n  ('louis', 0.005161858388222091),\n  ('husband', 0.005023225162097844),\n  ('louise', 0.004657888775111062)],\n 9: [('yes', 0.005320075562548839),\n  ('room', 0.00528642533774579),\n  ('woman', 0.005009472055263896),\n  ('course', 0.0046611440355525564),\n  ('miss', 0.004619576508180733),\n  ('nodded', 0.004469029998415906),\n  ('wife', 0.004293075354839071),\n  ('people', 0.00406696343244892),\n  ('sassenach', 0.004009707317097979),\n  ('god', 0.0038148536753088414)],\n 10: [('captain', 0.0068708498275241135),\n  ('chest', 0.006399648465336021),\n  ('teal', 0.005989891786955322),\n  ('slowly', 0.005809069809670293),\n  ('ship', 0.005804600548632078),\n  ('throat', 0.005804166866543365),\n  ('closed', 0.005723796037429238),\n  ('heart', 0.00547822636530213),\n  ('pain', 0.005426752732285811),\n  ('abram', 0.005405740499510694)],\n 11: [('bug', 0.006575684938845991),\n  ('yes', 0.005731018814363552),\n  ('lord', 0.005598483967013998),\n  ('table', 0.005361344874692291),\n  ('surgery', 0.004790020535132688),\n  ('better', 0.004401305825693681),\n  ('seen', 0.004170213270508708),\n  ('room', 0.0041111970996429),\n  ('closed', 0.004060962019149555),\n  ('nodded', 0.004003725008413983)]}"
     },
     "execution_count": 40,
     "metadata": {},
     "output_type": "execute_result"
    }
   ],
   "source": [
    "topic_model.get_topics()"
   ],
   "metadata": {
    "collapsed": false
   }
  },
  {
   "cell_type": "code",
   "execution_count": 41,
   "outputs": [
    {
     "data": {
      "text/plain": "    Topic  Count                              Name\n0      -1    374       -1_nodded_night_father_grey\n1       0     22           0_ship_deck_captain_sea\n2       1     17        1_hale_course_seen_higgins\n3       2     55        2_general_army_sir_british\n4       3     26         3_father_slowly_place_old\n5       4     21         4_mother_father_maybe_yes\n6       5     58      5_horse_road_night_sassenach\n7       6     27           6_snow_trees_bear_cabin\n8       7     18     7_child_sassenach_night_dream\n9       8     14  8_madame_monsieur_comte_highness\n10      9     26           9_yes_room_woman_course\n11     10     19      10_captain_chest_teal_slowly\n12     11     34             11_bug_yes_lord_table",
      "text/html": "<div>\n<style scoped>\n    .dataframe tbody tr th:only-of-type {\n        vertical-align: middle;\n    }\n\n    .dataframe tbody tr th {\n        vertical-align: top;\n    }\n\n    .dataframe thead th {\n        text-align: right;\n    }\n</style>\n<table border=\"1\" class=\"dataframe\">\n  <thead>\n    <tr style=\"text-align: right;\">\n      <th></th>\n      <th>Topic</th>\n      <th>Count</th>\n      <th>Name</th>\n    </tr>\n  </thead>\n  <tbody>\n    <tr>\n      <th>0</th>\n      <td>-1</td>\n      <td>374</td>\n      <td>-1_nodded_night_father_grey</td>\n    </tr>\n    <tr>\n      <th>1</th>\n      <td>0</td>\n      <td>22</td>\n      <td>0_ship_deck_captain_sea</td>\n    </tr>\n    <tr>\n      <th>2</th>\n      <td>1</td>\n      <td>17</td>\n      <td>1_hale_course_seen_higgins</td>\n    </tr>\n    <tr>\n      <th>3</th>\n      <td>2</td>\n      <td>55</td>\n      <td>2_general_army_sir_british</td>\n    </tr>\n    <tr>\n      <th>4</th>\n      <td>3</td>\n      <td>26</td>\n      <td>3_father_slowly_place_old</td>\n    </tr>\n    <tr>\n      <th>5</th>\n      <td>4</td>\n      <td>21</td>\n      <td>4_mother_father_maybe_yes</td>\n    </tr>\n    <tr>\n      <th>6</th>\n      <td>5</td>\n      <td>58</td>\n      <td>5_horse_road_night_sassenach</td>\n    </tr>\n    <tr>\n      <th>7</th>\n      <td>6</td>\n      <td>27</td>\n      <td>6_snow_trees_bear_cabin</td>\n    </tr>\n    <tr>\n      <th>8</th>\n      <td>7</td>\n      <td>18</td>\n      <td>7_child_sassenach_night_dream</td>\n    </tr>\n    <tr>\n      <th>9</th>\n      <td>8</td>\n      <td>14</td>\n      <td>8_madame_monsieur_comte_highness</td>\n    </tr>\n    <tr>\n      <th>10</th>\n      <td>9</td>\n      <td>26</td>\n      <td>9_yes_room_woman_course</td>\n    </tr>\n    <tr>\n      <th>11</th>\n      <td>10</td>\n      <td>19</td>\n      <td>10_captain_chest_teal_slowly</td>\n    </tr>\n    <tr>\n      <th>12</th>\n      <td>11</td>\n      <td>34</td>\n      <td>11_bug_yes_lord_table</td>\n    </tr>\n  </tbody>\n</table>\n</div>"
     },
     "execution_count": 41,
     "metadata": {},
     "output_type": "execute_result"
    }
   ],
   "source": [
    "topic_model.get_topic_info()"
   ],
   "metadata": {
    "collapsed": false
   }
  },
  {
   "cell_type": "code",
   "execution_count": 67,
   "outputs": [
    {
     "data": {
      "application/vnd.plotly.v1+json": {
       "data": [
        {
         "marker": {
          "color": "#D55E00"
         },
         "orientation": "h",
         "x": [
          0.006553331033381868,
          0.00663106611060394,
          0.006900344559114202,
          0.007482699232070337,
          0.011642433909795408
         ],
         "y": [
          "rail  ",
          "sea  ",
          "captain  ",
          "deck  ",
          "ship  "
         ],
         "type": "bar",
         "xaxis": "x",
         "yaxis": "y"
        },
        {
         "marker": {
          "color": "#0072B2"
         },
         "orientation": "h",
         "x": [
          0.0045618127583762595,
          0.005075560124206726,
          0.005143810647892967,
          0.00525859722865866,
          0.005592162884632738
         ],
         "y": [
          "friend  ",
          "higgins  ",
          "seen  ",
          "course  ",
          "hale  "
         ],
         "type": "bar",
         "xaxis": "x2",
         "yaxis": "y2"
        },
        {
         "marker": {
          "color": "#CC79A7"
         },
         "orientation": "h",
         "x": [
          0.006101830676715591,
          0.006197688085880043,
          0.006713193227707131,
          0.00750735730025514,
          0.01044540325633918
         ],
         "y": [
          "grey  ",
          "british  ",
          "sir  ",
          "army  ",
          "general  "
         ],
         "type": "bar",
         "xaxis": "x3",
         "yaxis": "y3"
        },
        {
         "marker": {
          "color": "#E69F00"
         },
         "orientation": "h",
         "x": [
          0.0043200101568672405,
          0.0044381304113706626,
          0.0044636975644739155,
          0.004955649973935426,
          0.005365785117334802
         ],
         "y": [
          "years  ",
          "old  ",
          "place  ",
          "slowly  ",
          "father  "
         ],
         "type": "bar",
         "xaxis": "x4",
         "yaxis": "y4"
        },
        {
         "marker": {
          "color": "#56B4E9"
         },
         "orientation": "h",
         "x": [
          0.005447124200998919,
          0.005447204068460506,
          0.006834504197689647,
          0.006885325391208527,
          0.00972670653041323
         ],
         "y": [
          "stones  ",
          "yes  ",
          "maybe  ",
          "father  ",
          "mother  "
         ],
         "type": "bar",
         "xaxis": "x5",
         "yaxis": "y5"
        },
        {
         "marker": {
          "color": "#009E73"
         },
         "orientation": "h",
         "x": [
          0.0042599230463440125,
          0.004300086082282521,
          0.004600302203264404,
          0.004747754870148255,
          0.006723106876434622
         ],
         "y": [
          "shoulder  ",
          "sassenach  ",
          "night  ",
          "road  ",
          "horse  "
         ],
         "type": "bar",
         "xaxis": "x6",
         "yaxis": "y6"
        },
        {
         "marker": {
          "color": "#F0E442"
         },
         "orientation": "h",
         "x": [
          0.004689221586842092,
          0.005052457629172197,
          0.005312146772516154,
          0.00549740336387521,
          0.00643658956730144
         ],
         "y": [
          "slowly  ",
          "cabin  ",
          "bear  ",
          "trees  ",
          "snow  "
         ],
         "type": "bar",
         "xaxis": "x7",
         "yaxis": "y7"
        },
        {
         "marker": {
          "color": "#D55E00"
         },
         "orientation": "h",
         "x": [
          0.006560589205980838,
          0.006742178326618648,
          0.007052229231142388,
          0.007283753240616344,
          0.00765499735248638
         ],
         "y": [
          "sleep  ",
          "dream  ",
          "night  ",
          "sassenach  ",
          "child  "
         ],
         "type": "bar",
         "xaxis": "x8",
         "yaxis": "y8"
        },
        {
         "marker": {
          "color": "#0072B2"
         },
         "orientation": "h",
         "x": [
          0.004619576508180733,
          0.0046611440355525564,
          0.005009472055263896,
          0.00528642533774579,
          0.005320075562548839
         ],
         "y": [
          "miss  ",
          "course  ",
          "woman  ",
          "room  ",
          "yes  "
         ],
         "type": "bar",
         "xaxis": "x9",
         "yaxis": "y9"
        },
        {
         "marker": {
          "color": "#CC79A7"
         },
         "orientation": "h",
         "x": [
          0.005804600548632078,
          0.005809069809670293,
          0.005989891786955322,
          0.006399648465336021,
          0.0068708498275241135
         ],
         "y": [
          "ship  ",
          "slowly  ",
          "teal  ",
          "chest  ",
          "captain  "
         ],
         "type": "bar",
         "xaxis": "x10",
         "yaxis": "y10"
        },
        {
         "marker": {
          "color": "#E69F00"
         },
         "orientation": "h",
         "x": [
          0.004790020535132688,
          0.005361344874692291,
          0.005598483967013998,
          0.005731018814363552,
          0.006575684938845991
         ],
         "y": [
          "surgery  ",
          "table  ",
          "lord  ",
          "yes  ",
          "bug  "
         ],
         "type": "bar",
         "xaxis": "x11",
         "yaxis": "y11"
        }
       ],
       "layout": {
        "template": {
         "data": {
          "barpolar": [
           {
            "marker": {
             "line": {
              "color": "white",
              "width": 0.5
             },
             "pattern": {
              "fillmode": "overlay",
              "size": 10,
              "solidity": 0.2
             }
            },
            "type": "barpolar"
           }
          ],
          "bar": [
           {
            "error_x": {
             "color": "#2a3f5f"
            },
            "error_y": {
             "color": "#2a3f5f"
            },
            "marker": {
             "line": {
              "color": "white",
              "width": 0.5
             },
             "pattern": {
              "fillmode": "overlay",
              "size": 10,
              "solidity": 0.2
             }
            },
            "type": "bar"
           }
          ],
          "carpet": [
           {
            "aaxis": {
             "endlinecolor": "#2a3f5f",
             "gridcolor": "#C8D4E3",
             "linecolor": "#C8D4E3",
             "minorgridcolor": "#C8D4E3",
             "startlinecolor": "#2a3f5f"
            },
            "baxis": {
             "endlinecolor": "#2a3f5f",
             "gridcolor": "#C8D4E3",
             "linecolor": "#C8D4E3",
             "minorgridcolor": "#C8D4E3",
             "startlinecolor": "#2a3f5f"
            },
            "type": "carpet"
           }
          ],
          "choropleth": [
           {
            "colorbar": {
             "outlinewidth": 0,
             "ticks": ""
            },
            "type": "choropleth"
           }
          ],
          "contourcarpet": [
           {
            "colorbar": {
             "outlinewidth": 0,
             "ticks": ""
            },
            "type": "contourcarpet"
           }
          ],
          "contour": [
           {
            "colorbar": {
             "outlinewidth": 0,
             "ticks": ""
            },
            "colorscale": [
             [
              0.0,
              "#0d0887"
             ],
             [
              0.1111111111111111,
              "#46039f"
             ],
             [
              0.2222222222222222,
              "#7201a8"
             ],
             [
              0.3333333333333333,
              "#9c179e"
             ],
             [
              0.4444444444444444,
              "#bd3786"
             ],
             [
              0.5555555555555556,
              "#d8576b"
             ],
             [
              0.6666666666666666,
              "#ed7953"
             ],
             [
              0.7777777777777778,
              "#fb9f3a"
             ],
             [
              0.8888888888888888,
              "#fdca26"
             ],
             [
              1.0,
              "#f0f921"
             ]
            ],
            "type": "contour"
           }
          ],
          "heatmapgl": [
           {
            "colorbar": {
             "outlinewidth": 0,
             "ticks": ""
            },
            "colorscale": [
             [
              0.0,
              "#0d0887"
             ],
             [
              0.1111111111111111,
              "#46039f"
             ],
             [
              0.2222222222222222,
              "#7201a8"
             ],
             [
              0.3333333333333333,
              "#9c179e"
             ],
             [
              0.4444444444444444,
              "#bd3786"
             ],
             [
              0.5555555555555556,
              "#d8576b"
             ],
             [
              0.6666666666666666,
              "#ed7953"
             ],
             [
              0.7777777777777778,
              "#fb9f3a"
             ],
             [
              0.8888888888888888,
              "#fdca26"
             ],
             [
              1.0,
              "#f0f921"
             ]
            ],
            "type": "heatmapgl"
           }
          ],
          "heatmap": [
           {
            "colorbar": {
             "outlinewidth": 0,
             "ticks": ""
            },
            "colorscale": [
             [
              0.0,
              "#0d0887"
             ],
             [
              0.1111111111111111,
              "#46039f"
             ],
             [
              0.2222222222222222,
              "#7201a8"
             ],
             [
              0.3333333333333333,
              "#9c179e"
             ],
             [
              0.4444444444444444,
              "#bd3786"
             ],
             [
              0.5555555555555556,
              "#d8576b"
             ],
             [
              0.6666666666666666,
              "#ed7953"
             ],
             [
              0.7777777777777778,
              "#fb9f3a"
             ],
             [
              0.8888888888888888,
              "#fdca26"
             ],
             [
              1.0,
              "#f0f921"
             ]
            ],
            "type": "heatmap"
           }
          ],
          "histogram2dcontour": [
           {
            "colorbar": {
             "outlinewidth": 0,
             "ticks": ""
            },
            "colorscale": [
             [
              0.0,
              "#0d0887"
             ],
             [
              0.1111111111111111,
              "#46039f"
             ],
             [
              0.2222222222222222,
              "#7201a8"
             ],
             [
              0.3333333333333333,
              "#9c179e"
             ],
             [
              0.4444444444444444,
              "#bd3786"
             ],
             [
              0.5555555555555556,
              "#d8576b"
             ],
             [
              0.6666666666666666,
              "#ed7953"
             ],
             [
              0.7777777777777778,
              "#fb9f3a"
             ],
             [
              0.8888888888888888,
              "#fdca26"
             ],
             [
              1.0,
              "#f0f921"
             ]
            ],
            "type": "histogram2dcontour"
           }
          ],
          "histogram2d": [
           {
            "colorbar": {
             "outlinewidth": 0,
             "ticks": ""
            },
            "colorscale": [
             [
              0.0,
              "#0d0887"
             ],
             [
              0.1111111111111111,
              "#46039f"
             ],
             [
              0.2222222222222222,
              "#7201a8"
             ],
             [
              0.3333333333333333,
              "#9c179e"
             ],
             [
              0.4444444444444444,
              "#bd3786"
             ],
             [
              0.5555555555555556,
              "#d8576b"
             ],
             [
              0.6666666666666666,
              "#ed7953"
             ],
             [
              0.7777777777777778,
              "#fb9f3a"
             ],
             [
              0.8888888888888888,
              "#fdca26"
             ],
             [
              1.0,
              "#f0f921"
             ]
            ],
            "type": "histogram2d"
           }
          ],
          "histogram": [
           {
            "marker": {
             "pattern": {
              "fillmode": "overlay",
              "size": 10,
              "solidity": 0.2
             }
            },
            "type": "histogram"
           }
          ],
          "mesh3d": [
           {
            "colorbar": {
             "outlinewidth": 0,
             "ticks": ""
            },
            "type": "mesh3d"
           }
          ],
          "parcoords": [
           {
            "line": {
             "colorbar": {
              "outlinewidth": 0,
              "ticks": ""
             }
            },
            "type": "parcoords"
           }
          ],
          "pie": [
           {
            "automargin": true,
            "type": "pie"
           }
          ],
          "scatter3d": [
           {
            "line": {
             "colorbar": {
              "outlinewidth": 0,
              "ticks": ""
             }
            },
            "marker": {
             "colorbar": {
              "outlinewidth": 0,
              "ticks": ""
             }
            },
            "type": "scatter3d"
           }
          ],
          "scattercarpet": [
           {
            "marker": {
             "colorbar": {
              "outlinewidth": 0,
              "ticks": ""
             }
            },
            "type": "scattercarpet"
           }
          ],
          "scattergeo": [
           {
            "marker": {
             "colorbar": {
              "outlinewidth": 0,
              "ticks": ""
             }
            },
            "type": "scattergeo"
           }
          ],
          "scattergl": [
           {
            "marker": {
             "colorbar": {
              "outlinewidth": 0,
              "ticks": ""
             }
            },
            "type": "scattergl"
           }
          ],
          "scattermapbox": [
           {
            "marker": {
             "colorbar": {
              "outlinewidth": 0,
              "ticks": ""
             }
            },
            "type": "scattermapbox"
           }
          ],
          "scatterpolargl": [
           {
            "marker": {
             "colorbar": {
              "outlinewidth": 0,
              "ticks": ""
             }
            },
            "type": "scatterpolargl"
           }
          ],
          "scatterpolar": [
           {
            "marker": {
             "colorbar": {
              "outlinewidth": 0,
              "ticks": ""
             }
            },
            "type": "scatterpolar"
           }
          ],
          "scatter": [
           {
            "fillpattern": {
             "fillmode": "overlay",
             "size": 10,
             "solidity": 0.2
            },
            "type": "scatter"
           }
          ],
          "scatterternary": [
           {
            "marker": {
             "colorbar": {
              "outlinewidth": 0,
              "ticks": ""
             }
            },
            "type": "scatterternary"
           }
          ],
          "surface": [
           {
            "colorbar": {
             "outlinewidth": 0,
             "ticks": ""
            },
            "colorscale": [
             [
              0.0,
              "#0d0887"
             ],
             [
              0.1111111111111111,
              "#46039f"
             ],
             [
              0.2222222222222222,
              "#7201a8"
             ],
             [
              0.3333333333333333,
              "#9c179e"
             ],
             [
              0.4444444444444444,
              "#bd3786"
             ],
             [
              0.5555555555555556,
              "#d8576b"
             ],
             [
              0.6666666666666666,
              "#ed7953"
             ],
             [
              0.7777777777777778,
              "#fb9f3a"
             ],
             [
              0.8888888888888888,
              "#fdca26"
             ],
             [
              1.0,
              "#f0f921"
             ]
            ],
            "type": "surface"
           }
          ],
          "table": [
           {
            "cells": {
             "fill": {
              "color": "#EBF0F8"
             },
             "line": {
              "color": "white"
             }
            },
            "header": {
             "fill": {
              "color": "#C8D4E3"
             },
             "line": {
              "color": "white"
             }
            },
            "type": "table"
           }
          ]
         },
         "layout": {
          "annotationdefaults": {
           "arrowcolor": "#2a3f5f",
           "arrowhead": 0,
           "arrowwidth": 1
          },
          "autotypenumbers": "strict",
          "coloraxis": {
           "colorbar": {
            "outlinewidth": 0,
            "ticks": ""
           }
          },
          "colorscale": {
           "diverging": [
            [
             0,
             "#8e0152"
            ],
            [
             0.1,
             "#c51b7d"
            ],
            [
             0.2,
             "#de77ae"
            ],
            [
             0.3,
             "#f1b6da"
            ],
            [
             0.4,
             "#fde0ef"
            ],
            [
             0.5,
             "#f7f7f7"
            ],
            [
             0.6,
             "#e6f5d0"
            ],
            [
             0.7,
             "#b8e186"
            ],
            [
             0.8,
             "#7fbc41"
            ],
            [
             0.9,
             "#4d9221"
            ],
            [
             1,
             "#276419"
            ]
           ],
           "sequential": [
            [
             0.0,
             "#0d0887"
            ],
            [
             0.1111111111111111,
             "#46039f"
            ],
            [
             0.2222222222222222,
             "#7201a8"
            ],
            [
             0.3333333333333333,
             "#9c179e"
            ],
            [
             0.4444444444444444,
             "#bd3786"
            ],
            [
             0.5555555555555556,
             "#d8576b"
            ],
            [
             0.6666666666666666,
             "#ed7953"
            ],
            [
             0.7777777777777778,
             "#fb9f3a"
            ],
            [
             0.8888888888888888,
             "#fdca26"
            ],
            [
             1.0,
             "#f0f921"
            ]
           ],
           "sequentialminus": [
            [
             0.0,
             "#0d0887"
            ],
            [
             0.1111111111111111,
             "#46039f"
            ],
            [
             0.2222222222222222,
             "#7201a8"
            ],
            [
             0.3333333333333333,
             "#9c179e"
            ],
            [
             0.4444444444444444,
             "#bd3786"
            ],
            [
             0.5555555555555556,
             "#d8576b"
            ],
            [
             0.6666666666666666,
             "#ed7953"
            ],
            [
             0.7777777777777778,
             "#fb9f3a"
            ],
            [
             0.8888888888888888,
             "#fdca26"
            ],
            [
             1.0,
             "#f0f921"
            ]
           ]
          },
          "colorway": [
           "#636efa",
           "#EF553B",
           "#00cc96",
           "#ab63fa",
           "#FFA15A",
           "#19d3f3",
           "#FF6692",
           "#B6E880",
           "#FF97FF",
           "#FECB52"
          ],
          "font": {
           "color": "#2a3f5f"
          },
          "geo": {
           "bgcolor": "white",
           "lakecolor": "white",
           "landcolor": "white",
           "showlakes": true,
           "showland": true,
           "subunitcolor": "#C8D4E3"
          },
          "hoverlabel": {
           "align": "left"
          },
          "hovermode": "closest",
          "mapbox": {
           "style": "light"
          },
          "paper_bgcolor": "white",
          "plot_bgcolor": "white",
          "polar": {
           "angularaxis": {
            "gridcolor": "#EBF0F8",
            "linecolor": "#EBF0F8",
            "ticks": ""
           },
           "bgcolor": "white",
           "radialaxis": {
            "gridcolor": "#EBF0F8",
            "linecolor": "#EBF0F8",
            "ticks": ""
           }
          },
          "scene": {
           "xaxis": {
            "backgroundcolor": "white",
            "gridcolor": "#DFE8F3",
            "gridwidth": 2,
            "linecolor": "#EBF0F8",
            "showbackground": true,
            "ticks": "",
            "zerolinecolor": "#EBF0F8"
           },
           "yaxis": {
            "backgroundcolor": "white",
            "gridcolor": "#DFE8F3",
            "gridwidth": 2,
            "linecolor": "#EBF0F8",
            "showbackground": true,
            "ticks": "",
            "zerolinecolor": "#EBF0F8"
           },
           "zaxis": {
            "backgroundcolor": "white",
            "gridcolor": "#DFE8F3",
            "gridwidth": 2,
            "linecolor": "#EBF0F8",
            "showbackground": true,
            "ticks": "",
            "zerolinecolor": "#EBF0F8"
           }
          },
          "shapedefaults": {
           "line": {
            "color": "#2a3f5f"
           }
          },
          "ternary": {
           "aaxis": {
            "gridcolor": "#DFE8F3",
            "linecolor": "#A2B1C6",
            "ticks": ""
           },
           "baxis": {
            "gridcolor": "#DFE8F3",
            "linecolor": "#A2B1C6",
            "ticks": ""
           },
           "bgcolor": "white",
           "caxis": {
            "gridcolor": "#DFE8F3",
            "linecolor": "#A2B1C6",
            "ticks": ""
           }
          },
          "title": {
           "x": 0.05
          },
          "xaxis": {
           "automargin": true,
           "gridcolor": "#EBF0F8",
           "linecolor": "#EBF0F8",
           "ticks": "",
           "title": {
            "standoff": 15
           },
           "zerolinecolor": "#EBF0F8",
           "zerolinewidth": 2
          },
          "yaxis": {
           "automargin": true,
           "gridcolor": "#EBF0F8",
           "linecolor": "#EBF0F8",
           "ticks": "",
           "title": {
            "standoff": 15
           },
           "zerolinecolor": "#EBF0F8",
           "zerolinewidth": 2
          }
         }
        },
        "xaxis": {
         "anchor": "y",
         "domain": [
          0.0,
          0.175
         ],
         "showgrid": true
        },
        "yaxis": {
         "anchor": "x",
         "domain": [
          0.7555555555555555,
          1.0
         ],
         "showgrid": true
        },
        "xaxis2": {
         "anchor": "y2",
         "domain": [
          0.275,
          0.45
         ],
         "showgrid": true
        },
        "yaxis2": {
         "anchor": "x2",
         "domain": [
          0.7555555555555555,
          1.0
         ],
         "showgrid": true
        },
        "xaxis3": {
         "anchor": "y3",
         "domain": [
          0.55,
          0.7250000000000001
         ],
         "showgrid": true
        },
        "yaxis3": {
         "anchor": "x3",
         "domain": [
          0.7555555555555555,
          1.0
         ],
         "showgrid": true
        },
        "xaxis4": {
         "anchor": "y4",
         "domain": [
          0.825,
          1.0
         ],
         "showgrid": true
        },
        "yaxis4": {
         "anchor": "x4",
         "domain": [
          0.7555555555555555,
          1.0
         ],
         "showgrid": true
        },
        "xaxis5": {
         "anchor": "y5",
         "domain": [
          0.0,
          0.175
         ],
         "showgrid": true
        },
        "yaxis5": {
         "anchor": "x5",
         "domain": [
          0.37777777777777777,
          0.6222222222222222
         ],
         "showgrid": true
        },
        "xaxis6": {
         "anchor": "y6",
         "domain": [
          0.275,
          0.45
         ],
         "showgrid": true
        },
        "yaxis6": {
         "anchor": "x6",
         "domain": [
          0.37777777777777777,
          0.6222222222222222
         ],
         "showgrid": true
        },
        "xaxis7": {
         "anchor": "y7",
         "domain": [
          0.55,
          0.7250000000000001
         ],
         "showgrid": true
        },
        "yaxis7": {
         "anchor": "x7",
         "domain": [
          0.37777777777777777,
          0.6222222222222222
         ],
         "showgrid": true
        },
        "xaxis8": {
         "anchor": "y8",
         "domain": [
          0.825,
          1.0
         ],
         "showgrid": true
        },
        "yaxis8": {
         "anchor": "x8",
         "domain": [
          0.37777777777777777,
          0.6222222222222222
         ],
         "showgrid": true
        },
        "xaxis9": {
         "anchor": "y9",
         "domain": [
          0.0,
          0.175
         ],
         "showgrid": true
        },
        "yaxis9": {
         "anchor": "x9",
         "domain": [
          0.0,
          0.24444444444444446
         ],
         "showgrid": true
        },
        "xaxis10": {
         "anchor": "y10",
         "domain": [
          0.275,
          0.45
         ],
         "showgrid": true
        },
        "yaxis10": {
         "anchor": "x10",
         "domain": [
          0.0,
          0.24444444444444446
         ],
         "showgrid": true
        },
        "xaxis11": {
         "anchor": "y11",
         "domain": [
          0.55,
          0.7250000000000001
         ],
         "showgrid": true
        },
        "yaxis11": {
         "anchor": "x11",
         "domain": [
          0.0,
          0.24444444444444446
         ],
         "showgrid": true
        },
        "xaxis12": {
         "anchor": "y12",
         "domain": [
          0.825,
          1.0
         ],
         "showgrid": true
        },
        "yaxis12": {
         "anchor": "x12",
         "domain": [
          0.0,
          0.24444444444444446
         ],
         "showgrid": true
        },
        "annotations": [
         {
          "font": {
           "size": 16
          },
          "showarrow": false,
          "text": "Topic 0",
          "x": 0.0875,
          "xanchor": "center",
          "xref": "paper",
          "y": 1.0,
          "yanchor": "bottom",
          "yref": "paper"
         },
         {
          "font": {
           "size": 16
          },
          "showarrow": false,
          "text": "Topic 1",
          "x": 0.36250000000000004,
          "xanchor": "center",
          "xref": "paper",
          "y": 1.0,
          "yanchor": "bottom",
          "yref": "paper"
         },
         {
          "font": {
           "size": 16
          },
          "showarrow": false,
          "text": "Topic 2",
          "x": 0.6375000000000001,
          "xanchor": "center",
          "xref": "paper",
          "y": 1.0,
          "yanchor": "bottom",
          "yref": "paper"
         },
         {
          "font": {
           "size": 16
          },
          "showarrow": false,
          "text": "Topic 3",
          "x": 0.9125,
          "xanchor": "center",
          "xref": "paper",
          "y": 1.0,
          "yanchor": "bottom",
          "yref": "paper"
         },
         {
          "font": {
           "size": 16
          },
          "showarrow": false,
          "text": "Topic 4",
          "x": 0.0875,
          "xanchor": "center",
          "xref": "paper",
          "y": 0.6222222222222222,
          "yanchor": "bottom",
          "yref": "paper"
         },
         {
          "font": {
           "size": 16
          },
          "showarrow": false,
          "text": "Topic 5",
          "x": 0.36250000000000004,
          "xanchor": "center",
          "xref": "paper",
          "y": 0.6222222222222222,
          "yanchor": "bottom",
          "yref": "paper"
         },
         {
          "font": {
           "size": 16
          },
          "showarrow": false,
          "text": "Topic 6",
          "x": 0.6375000000000001,
          "xanchor": "center",
          "xref": "paper",
          "y": 0.6222222222222222,
          "yanchor": "bottom",
          "yref": "paper"
         },
         {
          "font": {
           "size": 16
          },
          "showarrow": false,
          "text": "Topic 7",
          "x": 0.9125,
          "xanchor": "center",
          "xref": "paper",
          "y": 0.6222222222222222,
          "yanchor": "bottom",
          "yref": "paper"
         },
         {
          "font": {
           "size": 16
          },
          "showarrow": false,
          "text": "Topic 9",
          "x": 0.0875,
          "xanchor": "center",
          "xref": "paper",
          "y": 0.24444444444444446,
          "yanchor": "bottom",
          "yref": "paper"
         },
         {
          "font": {
           "size": 16
          },
          "showarrow": false,
          "text": "Topic 10",
          "x": 0.36250000000000004,
          "xanchor": "center",
          "xref": "paper",
          "y": 0.24444444444444446,
          "yanchor": "bottom",
          "yref": "paper"
         },
         {
          "font": {
           "size": 16
          },
          "showarrow": false,
          "text": "Topic 11",
          "x": 0.6375000000000001,
          "xanchor": "center",
          "xref": "paper",
          "y": 0.24444444444444446,
          "yanchor": "bottom",
          "yref": "paper"
         }
        ],
        "title": {
         "font": {
          "size": 22,
          "color": "Black"
         },
         "text": "Topic Word Scores",
         "x": 0.5,
         "xanchor": "center",
         "yanchor": "top"
        },
        "hoverlabel": {
         "font": {
          "size": 16,
          "family": "Rockwell"
         },
         "bgcolor": "white"
        },
        "showlegend": false,
        "width": 1000,
        "height": 750
       },
       "config": {
        "plotlyServerURL": "https://plot.ly"
       }
      },
      "text/html": "<div>                            <div id=\"1e5cd1d8-27d2-4be2-9730-cbe648ab551c\" class=\"plotly-graph-div\" style=\"height:750px; width:1000px;\"></div>            <script type=\"text/javascript\">                require([\"plotly\"], function(Plotly) {                    window.PLOTLYENV=window.PLOTLYENV || {};                                    if (document.getElementById(\"1e5cd1d8-27d2-4be2-9730-cbe648ab551c\")) {                    Plotly.newPlot(                        \"1e5cd1d8-27d2-4be2-9730-cbe648ab551c\",                        [{\"marker\":{\"color\":\"#D55E00\"},\"orientation\":\"h\",\"x\":[0.006553331033381868,0.00663106611060394,0.006900344559114202,0.007482699232070337,0.011642433909795408],\"y\":[\"rail  \",\"sea  \",\"captain  \",\"deck  \",\"ship  \"],\"type\":\"bar\",\"xaxis\":\"x\",\"yaxis\":\"y\"},{\"marker\":{\"color\":\"#0072B2\"},\"orientation\":\"h\",\"x\":[0.0045618127583762595,0.005075560124206726,0.005143810647892967,0.00525859722865866,0.005592162884632738],\"y\":[\"friend  \",\"higgins  \",\"seen  \",\"course  \",\"hale  \"],\"type\":\"bar\",\"xaxis\":\"x2\",\"yaxis\":\"y2\"},{\"marker\":{\"color\":\"#CC79A7\"},\"orientation\":\"h\",\"x\":[0.006101830676715591,0.006197688085880043,0.006713193227707131,0.00750735730025514,0.01044540325633918],\"y\":[\"grey  \",\"british  \",\"sir  \",\"army  \",\"general  \"],\"type\":\"bar\",\"xaxis\":\"x3\",\"yaxis\":\"y3\"},{\"marker\":{\"color\":\"#E69F00\"},\"orientation\":\"h\",\"x\":[0.0043200101568672405,0.0044381304113706626,0.0044636975644739155,0.004955649973935426,0.005365785117334802],\"y\":[\"years  \",\"old  \",\"place  \",\"slowly  \",\"father  \"],\"type\":\"bar\",\"xaxis\":\"x4\",\"yaxis\":\"y4\"},{\"marker\":{\"color\":\"#56B4E9\"},\"orientation\":\"h\",\"x\":[0.005447124200998919,0.005447204068460506,0.006834504197689647,0.006885325391208527,0.00972670653041323],\"y\":[\"stones  \",\"yes  \",\"maybe  \",\"father  \",\"mother  \"],\"type\":\"bar\",\"xaxis\":\"x5\",\"yaxis\":\"y5\"},{\"marker\":{\"color\":\"#009E73\"},\"orientation\":\"h\",\"x\":[0.0042599230463440125,0.004300086082282521,0.004600302203264404,0.004747754870148255,0.006723106876434622],\"y\":[\"shoulder  \",\"sassenach  \",\"night  \",\"road  \",\"horse  \"],\"type\":\"bar\",\"xaxis\":\"x6\",\"yaxis\":\"y6\"},{\"marker\":{\"color\":\"#F0E442\"},\"orientation\":\"h\",\"x\":[0.004689221586842092,0.005052457629172197,0.005312146772516154,0.00549740336387521,0.00643658956730144],\"y\":[\"slowly  \",\"cabin  \",\"bear  \",\"trees  \",\"snow  \"],\"type\":\"bar\",\"xaxis\":\"x7\",\"yaxis\":\"y7\"},{\"marker\":{\"color\":\"#D55E00\"},\"orientation\":\"h\",\"x\":[0.006560589205980838,0.006742178326618648,0.007052229231142388,0.007283753240616344,0.00765499735248638],\"y\":[\"sleep  \",\"dream  \",\"night  \",\"sassenach  \",\"child  \"],\"type\":\"bar\",\"xaxis\":\"x8\",\"yaxis\":\"y8\"},{\"marker\":{\"color\":\"#0072B2\"},\"orientation\":\"h\",\"x\":[0.004619576508180733,0.0046611440355525564,0.005009472055263896,0.00528642533774579,0.005320075562548839],\"y\":[\"miss  \",\"course  \",\"woman  \",\"room  \",\"yes  \"],\"type\":\"bar\",\"xaxis\":\"x9\",\"yaxis\":\"y9\"},{\"marker\":{\"color\":\"#CC79A7\"},\"orientation\":\"h\",\"x\":[0.005804600548632078,0.005809069809670293,0.005989891786955322,0.006399648465336021,0.0068708498275241135],\"y\":[\"ship  \",\"slowly  \",\"teal  \",\"chest  \",\"captain  \"],\"type\":\"bar\",\"xaxis\":\"x10\",\"yaxis\":\"y10\"},{\"marker\":{\"color\":\"#E69F00\"},\"orientation\":\"h\",\"x\":[0.004790020535132688,0.005361344874692291,0.005598483967013998,0.005731018814363552,0.006575684938845991],\"y\":[\"surgery  \",\"table  \",\"lord  \",\"yes  \",\"bug  \"],\"type\":\"bar\",\"xaxis\":\"x11\",\"yaxis\":\"y11\"}],                        {\"template\":{\"data\":{\"barpolar\":[{\"marker\":{\"line\":{\"color\":\"white\",\"width\":0.5},\"pattern\":{\"fillmode\":\"overlay\",\"size\":10,\"solidity\":0.2}},\"type\":\"barpolar\"}],\"bar\":[{\"error_x\":{\"color\":\"#2a3f5f\"},\"error_y\":{\"color\":\"#2a3f5f\"},\"marker\":{\"line\":{\"color\":\"white\",\"width\":0.5},\"pattern\":{\"fillmode\":\"overlay\",\"size\":10,\"solidity\":0.2}},\"type\":\"bar\"}],\"carpet\":[{\"aaxis\":{\"endlinecolor\":\"#2a3f5f\",\"gridcolor\":\"#C8D4E3\",\"linecolor\":\"#C8D4E3\",\"minorgridcolor\":\"#C8D4E3\",\"startlinecolor\":\"#2a3f5f\"},\"baxis\":{\"endlinecolor\":\"#2a3f5f\",\"gridcolor\":\"#C8D4E3\",\"linecolor\":\"#C8D4E3\",\"minorgridcolor\":\"#C8D4E3\",\"startlinecolor\":\"#2a3f5f\"},\"type\":\"carpet\"}],\"choropleth\":[{\"colorbar\":{\"outlinewidth\":0,\"ticks\":\"\"},\"type\":\"choropleth\"}],\"contourcarpet\":[{\"colorbar\":{\"outlinewidth\":0,\"ticks\":\"\"},\"type\":\"contourcarpet\"}],\"contour\":[{\"colorbar\":{\"outlinewidth\":0,\"ticks\":\"\"},\"colorscale\":[[0.0,\"#0d0887\"],[0.1111111111111111,\"#46039f\"],[0.2222222222222222,\"#7201a8\"],[0.3333333333333333,\"#9c179e\"],[0.4444444444444444,\"#bd3786\"],[0.5555555555555556,\"#d8576b\"],[0.6666666666666666,\"#ed7953\"],[0.7777777777777778,\"#fb9f3a\"],[0.8888888888888888,\"#fdca26\"],[1.0,\"#f0f921\"]],\"type\":\"contour\"}],\"heatmapgl\":[{\"colorbar\":{\"outlinewidth\":0,\"ticks\":\"\"},\"colorscale\":[[0.0,\"#0d0887\"],[0.1111111111111111,\"#46039f\"],[0.2222222222222222,\"#7201a8\"],[0.3333333333333333,\"#9c179e\"],[0.4444444444444444,\"#bd3786\"],[0.5555555555555556,\"#d8576b\"],[0.6666666666666666,\"#ed7953\"],[0.7777777777777778,\"#fb9f3a\"],[0.8888888888888888,\"#fdca26\"],[1.0,\"#f0f921\"]],\"type\":\"heatmapgl\"}],\"heatmap\":[{\"colorbar\":{\"outlinewidth\":0,\"ticks\":\"\"},\"colorscale\":[[0.0,\"#0d0887\"],[0.1111111111111111,\"#46039f\"],[0.2222222222222222,\"#7201a8\"],[0.3333333333333333,\"#9c179e\"],[0.4444444444444444,\"#bd3786\"],[0.5555555555555556,\"#d8576b\"],[0.6666666666666666,\"#ed7953\"],[0.7777777777777778,\"#fb9f3a\"],[0.8888888888888888,\"#fdca26\"],[1.0,\"#f0f921\"]],\"type\":\"heatmap\"}],\"histogram2dcontour\":[{\"colorbar\":{\"outlinewidth\":0,\"ticks\":\"\"},\"colorscale\":[[0.0,\"#0d0887\"],[0.1111111111111111,\"#46039f\"],[0.2222222222222222,\"#7201a8\"],[0.3333333333333333,\"#9c179e\"],[0.4444444444444444,\"#bd3786\"],[0.5555555555555556,\"#d8576b\"],[0.6666666666666666,\"#ed7953\"],[0.7777777777777778,\"#fb9f3a\"],[0.8888888888888888,\"#fdca26\"],[1.0,\"#f0f921\"]],\"type\":\"histogram2dcontour\"}],\"histogram2d\":[{\"colorbar\":{\"outlinewidth\":0,\"ticks\":\"\"},\"colorscale\":[[0.0,\"#0d0887\"],[0.1111111111111111,\"#46039f\"],[0.2222222222222222,\"#7201a8\"],[0.3333333333333333,\"#9c179e\"],[0.4444444444444444,\"#bd3786\"],[0.5555555555555556,\"#d8576b\"],[0.6666666666666666,\"#ed7953\"],[0.7777777777777778,\"#fb9f3a\"],[0.8888888888888888,\"#fdca26\"],[1.0,\"#f0f921\"]],\"type\":\"histogram2d\"}],\"histogram\":[{\"marker\":{\"pattern\":{\"fillmode\":\"overlay\",\"size\":10,\"solidity\":0.2}},\"type\":\"histogram\"}],\"mesh3d\":[{\"colorbar\":{\"outlinewidth\":0,\"ticks\":\"\"},\"type\":\"mesh3d\"}],\"parcoords\":[{\"line\":{\"colorbar\":{\"outlinewidth\":0,\"ticks\":\"\"}},\"type\":\"parcoords\"}],\"pie\":[{\"automargin\":true,\"type\":\"pie\"}],\"scatter3d\":[{\"line\":{\"colorbar\":{\"outlinewidth\":0,\"ticks\":\"\"}},\"marker\":{\"colorbar\":{\"outlinewidth\":0,\"ticks\":\"\"}},\"type\":\"scatter3d\"}],\"scattercarpet\":[{\"marker\":{\"colorbar\":{\"outlinewidth\":0,\"ticks\":\"\"}},\"type\":\"scattercarpet\"}],\"scattergeo\":[{\"marker\":{\"colorbar\":{\"outlinewidth\":0,\"ticks\":\"\"}},\"type\":\"scattergeo\"}],\"scattergl\":[{\"marker\":{\"colorbar\":{\"outlinewidth\":0,\"ticks\":\"\"}},\"type\":\"scattergl\"}],\"scattermapbox\":[{\"marker\":{\"colorbar\":{\"outlinewidth\":0,\"ticks\":\"\"}},\"type\":\"scattermapbox\"}],\"scatterpolargl\":[{\"marker\":{\"colorbar\":{\"outlinewidth\":0,\"ticks\":\"\"}},\"type\":\"scatterpolargl\"}],\"scatterpolar\":[{\"marker\":{\"colorbar\":{\"outlinewidth\":0,\"ticks\":\"\"}},\"type\":\"scatterpolar\"}],\"scatter\":[{\"fillpattern\":{\"fillmode\":\"overlay\",\"size\":10,\"solidity\":0.2},\"type\":\"scatter\"}],\"scatterternary\":[{\"marker\":{\"colorbar\":{\"outlinewidth\":0,\"ticks\":\"\"}},\"type\":\"scatterternary\"}],\"surface\":[{\"colorbar\":{\"outlinewidth\":0,\"ticks\":\"\"},\"colorscale\":[[0.0,\"#0d0887\"],[0.1111111111111111,\"#46039f\"],[0.2222222222222222,\"#7201a8\"],[0.3333333333333333,\"#9c179e\"],[0.4444444444444444,\"#bd3786\"],[0.5555555555555556,\"#d8576b\"],[0.6666666666666666,\"#ed7953\"],[0.7777777777777778,\"#fb9f3a\"],[0.8888888888888888,\"#fdca26\"],[1.0,\"#f0f921\"]],\"type\":\"surface\"}],\"table\":[{\"cells\":{\"fill\":{\"color\":\"#EBF0F8\"},\"line\":{\"color\":\"white\"}},\"header\":{\"fill\":{\"color\":\"#C8D4E3\"},\"line\":{\"color\":\"white\"}},\"type\":\"table\"}]},\"layout\":{\"annotationdefaults\":{\"arrowcolor\":\"#2a3f5f\",\"arrowhead\":0,\"arrowwidth\":1},\"autotypenumbers\":\"strict\",\"coloraxis\":{\"colorbar\":{\"outlinewidth\":0,\"ticks\":\"\"}},\"colorscale\":{\"diverging\":[[0,\"#8e0152\"],[0.1,\"#c51b7d\"],[0.2,\"#de77ae\"],[0.3,\"#f1b6da\"],[0.4,\"#fde0ef\"],[0.5,\"#f7f7f7\"],[0.6,\"#e6f5d0\"],[0.7,\"#b8e186\"],[0.8,\"#7fbc41\"],[0.9,\"#4d9221\"],[1,\"#276419\"]],\"sequential\":[[0.0,\"#0d0887\"],[0.1111111111111111,\"#46039f\"],[0.2222222222222222,\"#7201a8\"],[0.3333333333333333,\"#9c179e\"],[0.4444444444444444,\"#bd3786\"],[0.5555555555555556,\"#d8576b\"],[0.6666666666666666,\"#ed7953\"],[0.7777777777777778,\"#fb9f3a\"],[0.8888888888888888,\"#fdca26\"],[1.0,\"#f0f921\"]],\"sequentialminus\":[[0.0,\"#0d0887\"],[0.1111111111111111,\"#46039f\"],[0.2222222222222222,\"#7201a8\"],[0.3333333333333333,\"#9c179e\"],[0.4444444444444444,\"#bd3786\"],[0.5555555555555556,\"#d8576b\"],[0.6666666666666666,\"#ed7953\"],[0.7777777777777778,\"#fb9f3a\"],[0.8888888888888888,\"#fdca26\"],[1.0,\"#f0f921\"]]},\"colorway\":[\"#636efa\",\"#EF553B\",\"#00cc96\",\"#ab63fa\",\"#FFA15A\",\"#19d3f3\",\"#FF6692\",\"#B6E880\",\"#FF97FF\",\"#FECB52\"],\"font\":{\"color\":\"#2a3f5f\"},\"geo\":{\"bgcolor\":\"white\",\"lakecolor\":\"white\",\"landcolor\":\"white\",\"showlakes\":true,\"showland\":true,\"subunitcolor\":\"#C8D4E3\"},\"hoverlabel\":{\"align\":\"left\"},\"hovermode\":\"closest\",\"mapbox\":{\"style\":\"light\"},\"paper_bgcolor\":\"white\",\"plot_bgcolor\":\"white\",\"polar\":{\"angularaxis\":{\"gridcolor\":\"#EBF0F8\",\"linecolor\":\"#EBF0F8\",\"ticks\":\"\"},\"bgcolor\":\"white\",\"radialaxis\":{\"gridcolor\":\"#EBF0F8\",\"linecolor\":\"#EBF0F8\",\"ticks\":\"\"}},\"scene\":{\"xaxis\":{\"backgroundcolor\":\"white\",\"gridcolor\":\"#DFE8F3\",\"gridwidth\":2,\"linecolor\":\"#EBF0F8\",\"showbackground\":true,\"ticks\":\"\",\"zerolinecolor\":\"#EBF0F8\"},\"yaxis\":{\"backgroundcolor\":\"white\",\"gridcolor\":\"#DFE8F3\",\"gridwidth\":2,\"linecolor\":\"#EBF0F8\",\"showbackground\":true,\"ticks\":\"\",\"zerolinecolor\":\"#EBF0F8\"},\"zaxis\":{\"backgroundcolor\":\"white\",\"gridcolor\":\"#DFE8F3\",\"gridwidth\":2,\"linecolor\":\"#EBF0F8\",\"showbackground\":true,\"ticks\":\"\",\"zerolinecolor\":\"#EBF0F8\"}},\"shapedefaults\":{\"line\":{\"color\":\"#2a3f5f\"}},\"ternary\":{\"aaxis\":{\"gridcolor\":\"#DFE8F3\",\"linecolor\":\"#A2B1C6\",\"ticks\":\"\"},\"baxis\":{\"gridcolor\":\"#DFE8F3\",\"linecolor\":\"#A2B1C6\",\"ticks\":\"\"},\"bgcolor\":\"white\",\"caxis\":{\"gridcolor\":\"#DFE8F3\",\"linecolor\":\"#A2B1C6\",\"ticks\":\"\"}},\"title\":{\"x\":0.05},\"xaxis\":{\"automargin\":true,\"gridcolor\":\"#EBF0F8\",\"linecolor\":\"#EBF0F8\",\"ticks\":\"\",\"title\":{\"standoff\":15},\"zerolinecolor\":\"#EBF0F8\",\"zerolinewidth\":2},\"yaxis\":{\"automargin\":true,\"gridcolor\":\"#EBF0F8\",\"linecolor\":\"#EBF0F8\",\"ticks\":\"\",\"title\":{\"standoff\":15},\"zerolinecolor\":\"#EBF0F8\",\"zerolinewidth\":2}}},\"xaxis\":{\"anchor\":\"y\",\"domain\":[0.0,0.175],\"showgrid\":true},\"yaxis\":{\"anchor\":\"x\",\"domain\":[0.7555555555555555,1.0],\"showgrid\":true},\"xaxis2\":{\"anchor\":\"y2\",\"domain\":[0.275,0.45],\"showgrid\":true},\"yaxis2\":{\"anchor\":\"x2\",\"domain\":[0.7555555555555555,1.0],\"showgrid\":true},\"xaxis3\":{\"anchor\":\"y3\",\"domain\":[0.55,0.7250000000000001],\"showgrid\":true},\"yaxis3\":{\"anchor\":\"x3\",\"domain\":[0.7555555555555555,1.0],\"showgrid\":true},\"xaxis4\":{\"anchor\":\"y4\",\"domain\":[0.825,1.0],\"showgrid\":true},\"yaxis4\":{\"anchor\":\"x4\",\"domain\":[0.7555555555555555,1.0],\"showgrid\":true},\"xaxis5\":{\"anchor\":\"y5\",\"domain\":[0.0,0.175],\"showgrid\":true},\"yaxis5\":{\"anchor\":\"x5\",\"domain\":[0.37777777777777777,0.6222222222222222],\"showgrid\":true},\"xaxis6\":{\"anchor\":\"y6\",\"domain\":[0.275,0.45],\"showgrid\":true},\"yaxis6\":{\"anchor\":\"x6\",\"domain\":[0.37777777777777777,0.6222222222222222],\"showgrid\":true},\"xaxis7\":{\"anchor\":\"y7\",\"domain\":[0.55,0.7250000000000001],\"showgrid\":true},\"yaxis7\":{\"anchor\":\"x7\",\"domain\":[0.37777777777777777,0.6222222222222222],\"showgrid\":true},\"xaxis8\":{\"anchor\":\"y8\",\"domain\":[0.825,1.0],\"showgrid\":true},\"yaxis8\":{\"anchor\":\"x8\",\"domain\":[0.37777777777777777,0.6222222222222222],\"showgrid\":true},\"xaxis9\":{\"anchor\":\"y9\",\"domain\":[0.0,0.175],\"showgrid\":true},\"yaxis9\":{\"anchor\":\"x9\",\"domain\":[0.0,0.24444444444444446],\"showgrid\":true},\"xaxis10\":{\"anchor\":\"y10\",\"domain\":[0.275,0.45],\"showgrid\":true},\"yaxis10\":{\"anchor\":\"x10\",\"domain\":[0.0,0.24444444444444446],\"showgrid\":true},\"xaxis11\":{\"anchor\":\"y11\",\"domain\":[0.55,0.7250000000000001],\"showgrid\":true},\"yaxis11\":{\"anchor\":\"x11\",\"domain\":[0.0,0.24444444444444446],\"showgrid\":true},\"xaxis12\":{\"anchor\":\"y12\",\"domain\":[0.825,1.0],\"showgrid\":true},\"yaxis12\":{\"anchor\":\"x12\",\"domain\":[0.0,0.24444444444444446],\"showgrid\":true},\"annotations\":[{\"font\":{\"size\":16},\"showarrow\":false,\"text\":\"Topic 0\",\"x\":0.0875,\"xanchor\":\"center\",\"xref\":\"paper\",\"y\":1.0,\"yanchor\":\"bottom\",\"yref\":\"paper\"},{\"font\":{\"size\":16},\"showarrow\":false,\"text\":\"Topic 1\",\"x\":0.36250000000000004,\"xanchor\":\"center\",\"xref\":\"paper\",\"y\":1.0,\"yanchor\":\"bottom\",\"yref\":\"paper\"},{\"font\":{\"size\":16},\"showarrow\":false,\"text\":\"Topic 2\",\"x\":0.6375000000000001,\"xanchor\":\"center\",\"xref\":\"paper\",\"y\":1.0,\"yanchor\":\"bottom\",\"yref\":\"paper\"},{\"font\":{\"size\":16},\"showarrow\":false,\"text\":\"Topic 3\",\"x\":0.9125,\"xanchor\":\"center\",\"xref\":\"paper\",\"y\":1.0,\"yanchor\":\"bottom\",\"yref\":\"paper\"},{\"font\":{\"size\":16},\"showarrow\":false,\"text\":\"Topic 4\",\"x\":0.0875,\"xanchor\":\"center\",\"xref\":\"paper\",\"y\":0.6222222222222222,\"yanchor\":\"bottom\",\"yref\":\"paper\"},{\"font\":{\"size\":16},\"showarrow\":false,\"text\":\"Topic 5\",\"x\":0.36250000000000004,\"xanchor\":\"center\",\"xref\":\"paper\",\"y\":0.6222222222222222,\"yanchor\":\"bottom\",\"yref\":\"paper\"},{\"font\":{\"size\":16},\"showarrow\":false,\"text\":\"Topic 6\",\"x\":0.6375000000000001,\"xanchor\":\"center\",\"xref\":\"paper\",\"y\":0.6222222222222222,\"yanchor\":\"bottom\",\"yref\":\"paper\"},{\"font\":{\"size\":16},\"showarrow\":false,\"text\":\"Topic 7\",\"x\":0.9125,\"xanchor\":\"center\",\"xref\":\"paper\",\"y\":0.6222222222222222,\"yanchor\":\"bottom\",\"yref\":\"paper\"},{\"font\":{\"size\":16},\"showarrow\":false,\"text\":\"Topic 9\",\"x\":0.0875,\"xanchor\":\"center\",\"xref\":\"paper\",\"y\":0.24444444444444446,\"yanchor\":\"bottom\",\"yref\":\"paper\"},{\"font\":{\"size\":16},\"showarrow\":false,\"text\":\"Topic 10\",\"x\":0.36250000000000004,\"xanchor\":\"center\",\"xref\":\"paper\",\"y\":0.24444444444444446,\"yanchor\":\"bottom\",\"yref\":\"paper\"},{\"font\":{\"size\":16},\"showarrow\":false,\"text\":\"Topic 11\",\"x\":0.6375000000000001,\"xanchor\":\"center\",\"xref\":\"paper\",\"y\":0.24444444444444446,\"yanchor\":\"bottom\",\"yref\":\"paper\"}],\"title\":{\"font\":{\"size\":22,\"color\":\"Black\"},\"text\":\"Topic Word Scores\",\"x\":0.5,\"xanchor\":\"center\",\"yanchor\":\"top\"},\"hoverlabel\":{\"font\":{\"size\":16,\"family\":\"Rockwell\"},\"bgcolor\":\"white\"},\"showlegend\":false,\"width\":1000,\"height\":750},                        {\"responsive\": true}                    ).then(function(){\n                            \nvar gd = document.getElementById('1e5cd1d8-27d2-4be2-9730-cbe648ab551c');\nvar x = new MutationObserver(function (mutations, observer) {{\n        var display = window.getComputedStyle(gd).display;\n        if (!display || display === 'none') {{\n            console.log([gd, 'removed!']);\n            Plotly.purge(gd);\n            observer.disconnect();\n        }}\n}});\n\n// Listen for the removal of the full notebook cells\nvar notebookContainer = gd.closest('#notebook-container');\nif (notebookContainer) {{\n    x.observe(notebookContainer, {childList: true});\n}}\n\n// Listen for the clearing of the current output cell\nvar outputEl = gd.closest('.output');\nif (outputEl) {{\n    x.observe(outputEl, {childList: true});\n}}\n\n                        })                };                });            </script>        </div>"
     },
     "metadata": {},
     "output_type": "display_data"
    }
   ],
   "source": [
    "topic_model.visualize_barchart(top_n_topics=11)"
   ],
   "metadata": {
    "collapsed": false,
    "ExecuteTime": {
     "start_time": "2023-05-25T22:36:45.160164Z",
     "end_time": "2023-05-25T22:36:45.317506Z"
    }
   }
  },
  {
   "cell_type": "code",
   "execution_count": null,
   "outputs": [],
   "source": [
    "# Extract vectorizer and analyzer from BERTopic\n",
    "vectorizer = topic_model.vectorizer_model\n",
    "analyzer = vectorizer.build_analyzer()\n",
    "\n",
    "# Extract features for Topic Coherence evaluation\n",
    "tokens = [analyzer(doc) for doc in all_chaps_clean]\n",
    "dictionary = corpora.Dictionary(tokens)\n",
    "corpus = [dictionary.doc2bow(token) for token in tokens]\n",
    "topic_words = [[words for words, _ in topic_model.get_topic(topic)]\n",
    "               for topic in range(len(set(topics))-1)]\n",
    "\n",
    "coherence_model = CoherenceModel(topics=topic_words,\n",
    "                                 texts=tokens,\n",
    "                                 corpus=corpus,\n",
    "                                 dictionary=dictionary,\n",
    "                                 coherence='c_v')\n",
    "score = coherence_model.get_coherence()\n",
    "score"
   ],
   "metadata": {
    "collapsed": false,
    "pycharm": {
     "is_executing": true
    }
   }
  },
  {
   "cell_type": "markdown",
   "source": [
    "## NMF"
   ],
   "metadata": {
    "collapsed": false
   }
  },
  {
   "cell_type": "code",
   "execution_count": 43,
   "outputs": [
    {
     "ename": "KeyboardInterrupt",
     "evalue": "",
     "output_type": "error",
     "traceback": [
      "\u001B[1;31m---------------------------------------------------------------------------\u001B[0m",
      "\u001B[1;31mKeyboardInterrupt\u001B[0m                         Traceback (most recent call last)",
      "Cell \u001B[1;32mIn[43], line 1\u001B[0m\n\u001B[1;32m----> 1\u001B[0m clean_docs\u001B[38;5;241m=\u001B[39m\u001B[43mpreprocess_data_lem\u001B[49m\u001B[43m(\u001B[49m\u001B[43mall_chaps\u001B[49m\u001B[43m,\u001B[49m\u001B[43m \u001B[49m\u001B[43mwords95\u001B[49m\u001B[43m)\u001B[49m\n\u001B[0;32m      3\u001B[0m dictionary,doc_term_matrix\u001B[38;5;241m=\u001B[39mprepare_corpus(clean_docs)\n",
      "Cell \u001B[1;32mIn[27], line 15\u001B[0m, in \u001B[0;36mpreprocess_data_lem\u001B[1;34m(doc_set, word95)\u001B[0m\n\u001B[0;32m     13\u001B[0m     stopped_tokens \u001B[38;5;241m=\u001B[39m [i \u001B[38;5;28;01mfor\u001B[39;00m i \u001B[38;5;129;01min\u001B[39;00m tokens \u001B[38;5;28;01mif\u001B[39;00m \u001B[38;5;129;01mnot\u001B[39;00m i \u001B[38;5;129;01min\u001B[39;00m en_stop]\n\u001B[0;32m     14\u001B[0m     stemmed_tokens \u001B[38;5;241m=\u001B[39m [lemmatizer\u001B[38;5;241m.\u001B[39mlemmatize(i) \u001B[38;5;28;01mfor\u001B[39;00m i \u001B[38;5;129;01min\u001B[39;00m stopped_tokens]\n\u001B[1;32m---> 15\u001B[0m     stemmed_tokens \u001B[38;5;241m=\u001B[39m [i \u001B[38;5;28;01mfor\u001B[39;00m i \u001B[38;5;129;01min\u001B[39;00m stemmed_tokens \u001B[38;5;28;01mif\u001B[39;00m \u001B[38;5;129;01mnot\u001B[39;00m i \u001B[38;5;129;01min\u001B[39;00m word95]\n\u001B[0;32m     16\u001B[0m     texts\u001B[38;5;241m.\u001B[39mappend(stemmed_tokens)\n\u001B[0;32m     17\u001B[0m \u001B[38;5;28;01mreturn\u001B[39;00m texts\n",
      "Cell \u001B[1;32mIn[27], line 15\u001B[0m, in \u001B[0;36m<listcomp>\u001B[1;34m(.0)\u001B[0m\n\u001B[0;32m     13\u001B[0m     stopped_tokens \u001B[38;5;241m=\u001B[39m [i \u001B[38;5;28;01mfor\u001B[39;00m i \u001B[38;5;129;01min\u001B[39;00m tokens \u001B[38;5;28;01mif\u001B[39;00m \u001B[38;5;129;01mnot\u001B[39;00m i \u001B[38;5;129;01min\u001B[39;00m en_stop]\n\u001B[0;32m     14\u001B[0m     stemmed_tokens \u001B[38;5;241m=\u001B[39m [lemmatizer\u001B[38;5;241m.\u001B[39mlemmatize(i) \u001B[38;5;28;01mfor\u001B[39;00m i \u001B[38;5;129;01min\u001B[39;00m stopped_tokens]\n\u001B[1;32m---> 15\u001B[0m     stemmed_tokens \u001B[38;5;241m=\u001B[39m [i \u001B[38;5;28;01mfor\u001B[39;00m i \u001B[38;5;129;01min\u001B[39;00m stemmed_tokens \u001B[38;5;28;01mif\u001B[39;00m \u001B[38;5;129;01mnot\u001B[39;00m i \u001B[38;5;129;01min\u001B[39;00m word95]\n\u001B[0;32m     16\u001B[0m     texts\u001B[38;5;241m.\u001B[39mappend(stemmed_tokens)\n\u001B[0;32m     17\u001B[0m \u001B[38;5;28;01mreturn\u001B[39;00m texts\n",
      "\u001B[1;31mKeyboardInterrupt\u001B[0m: "
     ]
    }
   ],
   "source": [
    "clean_docs2=preprocess_data_lem(all_chaps, words95unkown)\n",
    "\n",
    "dictionary2,doc_term_matrix2=prepare_corpus(clean_docs2)"
   ],
   "metadata": {
    "collapsed": false,
    "ExecuteTime": {
     "start_time": "2023-05-25T12:45:27.932254Z",
     "end_time": "2023-05-25T12:46:45.012028Z"
    }
   }
  },
  {
   "cell_type": "code",
   "execution_count": 165,
   "outputs": [
    {
     "ename": "KeyboardInterrupt",
     "evalue": "",
     "output_type": "error",
     "traceback": [
      "\u001B[1;31m---------------------------------------------------------------------------\u001B[0m",
      "\u001B[1;31mKeyboardInterrupt\u001B[0m                         Traceback (most recent call last)",
      "Cell \u001B[1;32mIn[165], line 11\u001B[0m\n\u001B[0;32m      9\u001B[0m \u001B[38;5;28;01mfor\u001B[39;00m i \u001B[38;5;129;01min\u001B[39;00m \u001B[38;5;28mrange\u001B[39m(\u001B[38;5;241m12\u001B[39m,\u001B[38;5;241m30\u001B[39m):\n\u001B[0;32m     10\u001B[0m   \u001B[38;5;28;01mfor\u001B[39;00m j \u001B[38;5;129;01min\u001B[39;00m \u001B[38;5;28mrange\u001B[39m(\u001B[38;5;241m10\u001B[39m,\u001B[38;5;241m41\u001B[39m):\n\u001B[1;32m---> 11\u001B[0m     nmf_topic_model2 \u001B[38;5;241m=\u001B[39m \u001B[43mNmf\u001B[49m\u001B[43m(\u001B[49m\n\u001B[0;32m     12\u001B[0m \u001B[43m        \u001B[49m\u001B[43mcorpus\u001B[49m\u001B[43m \u001B[49m\u001B[38;5;241;43m=\u001B[39;49m\u001B[43m \u001B[49m\u001B[43mdoc_term_matrix2\u001B[49m\u001B[43m,\u001B[49m\n\u001B[0;32m     13\u001B[0m \u001B[43m        \u001B[49m\u001B[43mid2word\u001B[49m\u001B[43m \u001B[49m\u001B[38;5;241;43m=\u001B[39;49m\u001B[43m \u001B[49m\u001B[43mdictionary2\u001B[49m\u001B[43m,\u001B[49m\n\u001B[0;32m     14\u001B[0m \u001B[43m        \u001B[49m\u001B[43mnum_topics\u001B[49m\u001B[43m \u001B[49m\u001B[38;5;241;43m=\u001B[39;49m\u001B[43m \u001B[49m\u001B[43mj\u001B[49m\u001B[43m,\u001B[49m\n\u001B[0;32m     15\u001B[0m \u001B[43m        \u001B[49m\u001B[43mrandom_state\u001B[49m\u001B[43m \u001B[49m\u001B[38;5;241;43m=\u001B[39;49m\u001B[43m \u001B[49m\u001B[38;5;241;43m11\u001B[39;49m\u001B[43m,\u001B[49m\n\u001B[0;32m     16\u001B[0m \u001B[43m        \u001B[49m\u001B[43mpasses\u001B[49m\u001B[43m \u001B[49m\u001B[38;5;241;43m=\u001B[39;49m\u001B[43m \u001B[49m\u001B[43mi\u001B[49m\u001B[43m,\u001B[49m\n\u001B[0;32m     17\u001B[0m \u001B[43m    \u001B[49m\u001B[43m)\u001B[49m\n\u001B[0;32m     18\u001B[0m     \u001B[38;5;28mprint\u001B[39m(i, \u001B[38;5;124m'\u001B[39m\u001B[38;5;124m \u001B[39m\u001B[38;5;124m'\u001B[39m, j)\n\u001B[0;32m     19\u001B[0m     coherencemodel \u001B[38;5;241m=\u001B[39m CoherenceModel(model\u001B[38;5;241m=\u001B[39mnmf_topic_model2, texts\u001B[38;5;241m=\u001B[39mclean_docs2, dictionary\u001B[38;5;241m=\u001B[39mdictionary2, coherence\u001B[38;5;241m=\u001B[39m\u001B[38;5;124m'\u001B[39m\u001B[38;5;124mc_v\u001B[39m\u001B[38;5;124m'\u001B[39m)\n",
      "File \u001B[1;32m~\\anaconda3\\lib\\site-packages\\gensim\\models\\nmf.py:219\u001B[0m, in \u001B[0;36mNmf.__init__\u001B[1;34m(self, corpus, num_topics, id2word, chunksize, passes, kappa, minimum_probability, w_max_iter, w_stop_condition, h_max_iter, h_stop_condition, eval_every, normalize, random_state)\u001B[0m\n\u001B[0;32m    216\u001B[0m \u001B[38;5;28mself\u001B[39m\u001B[38;5;241m.\u001B[39m_h \u001B[38;5;241m=\u001B[39m \u001B[38;5;28;01mNone\u001B[39;00m\n\u001B[0;32m    218\u001B[0m \u001B[38;5;28;01mif\u001B[39;00m corpus \u001B[38;5;129;01mis\u001B[39;00m \u001B[38;5;129;01mnot\u001B[39;00m \u001B[38;5;28;01mNone\u001B[39;00m:\n\u001B[1;32m--> 219\u001B[0m     \u001B[38;5;28;43mself\u001B[39;49m\u001B[38;5;241;43m.\u001B[39;49m\u001B[43mupdate\u001B[49m\u001B[43m(\u001B[49m\u001B[43mcorpus\u001B[49m\u001B[43m)\u001B[49m\n",
      "File \u001B[1;32m~\\anaconda3\\lib\\site-packages\\gensim\\models\\nmf.py:666\u001B[0m, in \u001B[0;36mNmf.update\u001B[1;34m(self, corpus, chunksize, passes, eval_every)\u001B[0m\n\u001B[0;32m    663\u001B[0m \u001B[38;5;28mself\u001B[39m\u001B[38;5;241m.\u001B[39mB \u001B[38;5;241m+\u001B[39m\u001B[38;5;241m=\u001B[39m v\u001B[38;5;241m.\u001B[39mdot(h\u001B[38;5;241m.\u001B[39mT)\n\u001B[0;32m    664\u001B[0m \u001B[38;5;28mself\u001B[39m\u001B[38;5;241m.\u001B[39mB \u001B[38;5;241m/\u001B[39m\u001B[38;5;241m=\u001B[39m chunk_overall_idx\n\u001B[1;32m--> 666\u001B[0m \u001B[38;5;28;43mself\u001B[39;49m\u001B[38;5;241;43m.\u001B[39;49m\u001B[43m_solve_w\u001B[49m\u001B[43m(\u001B[49m\u001B[43m)\u001B[49m\n\u001B[0;32m    668\u001B[0m chunk_overall_idx \u001B[38;5;241m+\u001B[39m\u001B[38;5;241m=\u001B[39m \u001B[38;5;241m1\u001B[39m\n\u001B[0;32m    670\u001B[0m logger\u001B[38;5;241m.\u001B[39minfo(\u001B[38;5;124m\"\u001B[39m\u001B[38;5;124mW error: \u001B[39m\u001B[38;5;132;01m%s\u001B[39;00m\u001B[38;5;124m\"\u001B[39m, \u001B[38;5;28mself\u001B[39m\u001B[38;5;241m.\u001B[39m_w_error)\n",
      "File \u001B[1;32m~\\anaconda3\\lib\\site-packages\\gensim\\models\\nmf.py:686\u001B[0m, in \u001B[0;36mNmf._solve_w\u001B[1;34m(self)\u001B[0m\n\u001B[0;32m    682\u001B[0m logger\u001B[38;5;241m.\u001B[39mdebug(\u001B[38;5;124m\"\u001B[39m\u001B[38;5;124mw_error: \u001B[39m\u001B[38;5;132;01m%s\u001B[39;00m\u001B[38;5;124m\"\u001B[39m, \u001B[38;5;28mself\u001B[39m\u001B[38;5;241m.\u001B[39m_w_error)\n\u001B[0;32m    684\u001B[0m WA \u001B[38;5;241m=\u001B[39m \u001B[38;5;28mself\u001B[39m\u001B[38;5;241m.\u001B[39m_W\u001B[38;5;241m.\u001B[39mdot(\u001B[38;5;28mself\u001B[39m\u001B[38;5;241m.\u001B[39mA)\n\u001B[1;32m--> 686\u001B[0m \u001B[38;5;28mself\u001B[39m\u001B[38;5;241m.\u001B[39m_W \u001B[38;5;241m-\u001B[39m\u001B[38;5;241m=\u001B[39m \u001B[43meta\u001B[49m\u001B[43m \u001B[49m\u001B[38;5;241;43m*\u001B[39;49m\u001B[43m \u001B[49m\u001B[43m(\u001B[49m\u001B[43mWA\u001B[49m\u001B[43m \u001B[49m\u001B[38;5;241;43m-\u001B[39;49m\u001B[43m \u001B[49m\u001B[38;5;28;43mself\u001B[39;49m\u001B[38;5;241;43m.\u001B[39;49m\u001B[43mB\u001B[49m\u001B[43m)\u001B[49m\n\u001B[0;32m    687\u001B[0m \u001B[38;5;28mself\u001B[39m\u001B[38;5;241m.\u001B[39m_transform()\n\u001B[0;32m    689\u001B[0m error_ \u001B[38;5;241m=\u001B[39m error(WA)\n",
      "\u001B[1;31mKeyboardInterrupt\u001B[0m: "
     ]
    }
   ],
   "source": [
    "from gensim.models import Nmf\n",
    "from numpy import Inf\n",
    "# 11   39   0.32005350908909896\n",
    "# 27   16   0.38781284658381565   new best 11   29   0.36210953279131564\n",
    "best_passes = 1\n",
    "best_num_topics = 1\n",
    "best_lsa_topic_model = None\n",
    "max_coherence = 0\n",
    "for i in range(12,30):\n",
    "  for j in range(10,41):\n",
    "    nmf_topic_model2 = Nmf(\n",
    "        corpus = doc_term_matrix2,\n",
    "        id2word = dictionary2,\n",
    "        num_topics = j,\n",
    "        random_state = 11,\n",
    "        passes = i,\n",
    "    )\n",
    "    print(i, ' ', j)\n",
    "    coherencemodel = CoherenceModel(model=nmf_topic_model2, texts=clean_docs2, dictionary=dictionary2, coherence='c_v')\n",
    "    score = coherencemodel.get_coherence()\n",
    "    if score > max_coherence:\n",
    "      max_coherence = score\n",
    "      best_passes = i\n",
    "      best_lsa_topic_model = nmf_topic_model2\n",
    "      best_num_topics = j\n",
    "      print('new best', i,' ', j,' ', score)"
   ],
   "metadata": {
    "collapsed": false,
    "ExecuteTime": {
     "start_time": "2023-05-26T01:27:51.392956Z",
     "end_time": "2023-05-26T07:30:03.294703Z"
    }
   }
  },
  {
   "cell_type": "code",
   "execution_count": 166,
   "outputs": [],
   "source": [
    "clean_docs2=preprocess_data_lem(all_chaps_clean, words95unkown)\n",
    "\n",
    "dictionary2,doc_term_matrix2=prepare_corpus(clean_docs2)\n",
    "nmf_topic_model2 = Nmf(\n",
    "        corpus = doc_term_matrix2,\n",
    "        id2word = dictionary2,\n",
    "        num_topics = 16,\n",
    "        random_state = 11,\n",
    "        passes=24\n",
    "    )"
   ],
   "metadata": {
    "collapsed": false,
    "ExecuteTime": {
     "start_time": "2023-05-26T08:32:08.058215Z",
     "end_time": "2023-05-26T08:33:41.356034Z"
    }
   }
  },
  {
   "cell_type": "code",
   "execution_count": 167,
   "outputs": [
    {
     "name": "stdout",
     "output_type": "stream",
     "text": [
      "Representative words of topic 4: 0.011*\"woman\" + 0.011*\"child\" + 0.006*\"mother\" + 0.005*\"baby\" + 0.005*\"snow\" + 0.004*\"girl\" + 0.004*\"year\" + 0.003*\"stone\" + 0.003*\"people\" + 0.003*\"tiny\".\n",
      "Representative words of topic 15: 0.009*\"father\" + 0.007*\"room\" + 0.005*\"name\" + 0.004*\"table\" + 0.004*\"year\" + 0.004*\"stone\" + 0.003*\"glass\" + 0.003*\"course\" + 0.003*\"book\" + 0.003*\"maybe\".\n",
      "Representative words of topic 3: 0.005*\"mother\" + 0.004*\"madame\" + 0.004*\"monsieur\" + 0.004*\"sassenach\" + 0.004*\"smile\" + 0.003*\"nodded\" + 0.003*\"letter\" + 0.003*\"stone\" + 0.003*\"rose\" + 0.003*\"paris\".\n",
      "Representative words of topic 14: 0.007*\"sir\" + 0.004*\"governor\" + 0.004*\"hayes\" + 0.003*\"lieutenant\" + 0.003*\"soldier\" + 0.003*\"crowd\" + 0.003*\"son\" + 0.003*\"mountain\" + 0.003*\"father\" + 0.003*\"nodded\".\n",
      "Representative words of topic 10: 0.006*\"road\" + 0.004*\"night\" + 0.004*\"friend\" + 0.004*\"indian\" + 0.004*\"uncle\" + 0.003*\"fire\" + 0.003*\"army\" + 0.003*\"general\" + 0.003*\"ground\" + 0.003*\"soldier\".\n",
      "Representative words of topic 2: 0.005*\"word\" + 0.005*\"mother\" + 0.005*\"softly\" + 0.004*\"matter\" + 0.004*\"god\" + 0.004*\"life\" + 0.004*\"ken\" + 0.004*\"maybe\" + 0.004*\"love\" + 0.004*\"lord\".\n",
      "Representative words of topic 9: 0.013*\"captain\" + 0.013*\"ship\" + 0.009*\"deck\" + 0.005*\"teal\" + 0.004*\"rail\" + 0.004*\"hold\" + 0.004*\"smith\" + 0.004*\"abram\" + 0.004*\"sail\" + 0.004*\"chest\".\n",
      "Representative words of topic 1: 0.012*\"fire\" + 0.010*\"tree\" + 0.007*\"bear\" + 0.007*\"horse\" + 0.006*\"wood\" + 0.005*\"ground\" + 0.005*\"leaf\" + 0.004*\"village\" + 0.003*\"indian\" + 0.003*\"dead\".\n",
      "Representative words of topic 6: 0.010*\"major\" + 0.008*\"grey\" + 0.007*\"fire\" + 0.006*\"gold\" + 0.005*\"stone\" + 0.005*\"word\" + 0.005*\"night\" + 0.005*\"room\" + 0.004*\"duke\" + 0.004*\"window\".\n",
      "Representative words of topic 11: 0.006*\"boy\" + 0.005*\"cottage\" + 0.005*\"shoulder\" + 0.005*\"sir\" + 0.005*\"army\" + 0.004*\"english\" + 0.004*\"lord\" + 0.004*\"battle\" + 0.004*\"wounded\" + 0.004*\"wound\".\n"
     ]
    },
    {
     "data": {
      "text/plain": "    Number                                              Words\n1        4  0.011*\"woman\" + 0.011*\"child\" + 0.006*\"mother\"...\n2       15  0.009*\"father\" + 0.007*\"room\" + 0.005*\"name\" +...\n3        3  0.005*\"mother\" + 0.004*\"madame\" + 0.004*\"monsi...\n4       14  0.007*\"sir\" + 0.004*\"governor\" + 0.004*\"hayes\"...\n5       10  0.006*\"road\" + 0.004*\"night\" + 0.004*\"friend\" ...\n6        2  0.005*\"word\" + 0.005*\"mother\" + 0.005*\"softly\"...\n7        9  0.013*\"captain\" + 0.013*\"ship\" + 0.009*\"deck\" ...\n8        1  0.012*\"fire\" + 0.010*\"tree\" + 0.007*\"bear\" + 0...\n9        6  0.010*\"major\" + 0.008*\"grey\" + 0.007*\"fire\" + ...\n10      11  0.006*\"boy\" + 0.005*\"cottage\" + 0.005*\"shoulde...",
      "text/html": "<div>\n<style scoped>\n    .dataframe tbody tr th:only-of-type {\n        vertical-align: middle;\n    }\n\n    .dataframe tbody tr th {\n        vertical-align: top;\n    }\n\n    .dataframe thead th {\n        text-align: right;\n    }\n</style>\n<table border=\"1\" class=\"dataframe\">\n  <thead>\n    <tr style=\"text-align: right;\">\n      <th></th>\n      <th>Number</th>\n      <th>Words</th>\n    </tr>\n  </thead>\n  <tbody>\n    <tr>\n      <th>1</th>\n      <td>4</td>\n      <td>0.011*\"woman\" + 0.011*\"child\" + 0.006*\"mother\"...</td>\n    </tr>\n    <tr>\n      <th>2</th>\n      <td>15</td>\n      <td>0.009*\"father\" + 0.007*\"room\" + 0.005*\"name\" +...</td>\n    </tr>\n    <tr>\n      <th>3</th>\n      <td>3</td>\n      <td>0.005*\"mother\" + 0.004*\"madame\" + 0.004*\"monsi...</td>\n    </tr>\n    <tr>\n      <th>4</th>\n      <td>14</td>\n      <td>0.007*\"sir\" + 0.004*\"governor\" + 0.004*\"hayes\"...</td>\n    </tr>\n    <tr>\n      <th>5</th>\n      <td>10</td>\n      <td>0.006*\"road\" + 0.004*\"night\" + 0.004*\"friend\" ...</td>\n    </tr>\n    <tr>\n      <th>6</th>\n      <td>2</td>\n      <td>0.005*\"word\" + 0.005*\"mother\" + 0.005*\"softly\"...</td>\n    </tr>\n    <tr>\n      <th>7</th>\n      <td>9</td>\n      <td>0.013*\"captain\" + 0.013*\"ship\" + 0.009*\"deck\" ...</td>\n    </tr>\n    <tr>\n      <th>8</th>\n      <td>1</td>\n      <td>0.012*\"fire\" + 0.010*\"tree\" + 0.007*\"bear\" + 0...</td>\n    </tr>\n    <tr>\n      <th>9</th>\n      <td>6</td>\n      <td>0.010*\"major\" + 0.008*\"grey\" + 0.007*\"fire\" + ...</td>\n    </tr>\n    <tr>\n      <th>10</th>\n      <td>11</td>\n      <td>0.006*\"boy\" + 0.005*\"cottage\" + 0.005*\"shoulde...</td>\n    </tr>\n  </tbody>\n</table>\n</div>"
     },
     "execution_count": 167,
     "metadata": {},
     "output_type": "execute_result"
    }
   ],
   "source": [
    "import pandas as pd\n",
    "\n",
    "df2 = pd.DataFrame(columns=['Number', 'Words'])\n",
    "\n",
    "i=1\n",
    "for topic_num, words in nmf_topic_model2.show_topics():\n",
    "    df2.loc[i] = [topic_num, words]\n",
    "    i+=1\n",
    "    print('Representative words of topic {}: {}.'.format(topic_num, words))\n",
    "\n",
    "df2"
   ],
   "metadata": {
    "collapsed": false,
    "ExecuteTime": {
     "start_time": "2023-05-26T08:33:41.367589Z",
     "end_time": "2023-05-26T08:33:41.751510Z"
    }
   }
  },
  {
   "cell_type": "code",
   "execution_count": 168,
   "outputs": [
    {
     "data": {
      "text/plain": "0.385334094175618"
     },
     "execution_count": 168,
     "metadata": {},
     "output_type": "execute_result"
    }
   ],
   "source": [
    "coherencemodel = CoherenceModel(model=nmf_topic_model2, texts=clean_docs2, dictionary=dictionary2, coherence='c_v')\n",
    "score = coherencemodel.get_coherence()\n",
    "score"
   ],
   "metadata": {
    "collapsed": false,
    "ExecuteTime": {
     "start_time": "2023-05-26T08:33:41.750513Z",
     "end_time": "2023-05-26T08:34:12.017104Z"
    }
   }
  },
  {
   "cell_type": "code",
   "execution_count": 169,
   "outputs": [
    {
     "data": {
      "text/plain": "'0.013*\"horse\" + 0.004*\"rock\" + 0.003*\"shoulder\" + 0.003*\"wall\" + 0.003*\"castle\" + 0.003*\"hill\" + 0.003*\"stone\" + 0.003*\"rain\" + 0.003*\"knee\" + 0.003*\"rupert\"'"
     },
     "execution_count": 169,
     "metadata": {},
     "output_type": "execute_result"
    }
   ],
   "source": [
    "nmf_topic_model2.print_topics()[0][1]"
   ],
   "metadata": {
    "collapsed": false,
    "ExecuteTime": {
     "start_time": "2023-05-26T08:34:12.028438Z",
     "end_time": "2023-05-26T08:34:12.184883Z"
    }
   }
  },
  {
   "cell_type": "code",
   "execution_count": 170,
   "outputs": [
    {
     "data": {
      "text/plain": "<Figure size 720x720 with 16 Axes>",
      "image/png": "[encoded data removed]"
     },
     "metadata": {
      "needs_background": "light"
     },
     "output_type": "display_data"
    }
   ],
   "source": [
    "NMF_visualisation(nmf_topic_model2.print_topics())"
   ],
   "metadata": {
    "collapsed": false,
    "ExecuteTime": {
     "start_time": "2023-05-26T08:34:12.192860Z",
     "end_time": "2023-05-26T08:34:15.331780Z"
    }
   }
  },
  {
   "cell_type": "markdown",
   "source": [
    "## Visualise flow"
   ],
   "metadata": {
    "collapsed": false
   }
  },
  {
   "cell_type": "code",
   "execution_count": 171,
   "outputs": [
    {
     "data": {
      "text/plain": "[(3, 0.13712726758492202),\n (4, 0.06715037652784386),\n (6, 0.0928159803955004),\n (7, 0.10161529419530282),\n (10, 0.1425250543442955),\n (11, 0.07965897659965562),\n (12, 0.04128926988272353),\n (15, 0.31444801133644645)]"
     },
     "execution_count": 171,
     "metadata": {},
     "output_type": "execute_result"
    }
   ],
   "source": [
    "nmf_topic_model2.get_document_topics(doc_term_matrix2[1])"
   ],
   "metadata": {
    "collapsed": false,
    "ExecuteTime": {
     "start_time": "2023-05-26T08:34:17.335256Z",
     "end_time": "2023-05-26T08:34:17.369215Z"
    }
   }
  },
  {
   "cell_type": "code",
   "execution_count": 172,
   "outputs": [],
   "source": [
    "i=0\n",
    "id_book1 = []\n",
    "id_book2 = []\n",
    "id_book3 = []\n",
    "id_book4 = []\n",
    "id_book5 = []\n",
    "id_book6 = []\n",
    "id_book7 = []\n",
    "id_book8 = []\n",
    "i=0\n",
    "for doc in doc_term_matrix2:\n",
    "    tops = nmf_topic_model2.get_document_topics(doc)\n",
    "    id_final = 0\n",
    "    pro_max = 0\n",
    "    for t in tops:\n",
    "        id = t[0]\n",
    "        pro = t[1]\n",
    "        if pro>pro_max:\n",
    "            id_final = id\n",
    "            pro_max = pro\n",
    "    if i<42:\n",
    "        id_book1.append(id_final)\n",
    "    if 41<=i<92:\n",
    "        id_book2.append(id_final)\n",
    "    if 92<=i<156:\n",
    "        id_book3.append(id_final)\n",
    "    if 156<=i<228:\n",
    "        id_book4.append(id_final)\n",
    "    if 228<=i<340:\n",
    "        id_book5.append(id_final)\n",
    "    if 340<=i<456:\n",
    "        id_book6.append(id_final)\n",
    "    if 456<=i<562:\n",
    "        id_book7.append(id_final)\n",
    "    if 562<=i:\n",
    "        id_book8.append(id_final)\n",
    "    i+=1"
   ],
   "metadata": {
    "collapsed": false,
    "ExecuteTime": {
     "start_time": "2023-05-26T08:34:18.011397Z",
     "end_time": "2023-05-26T08:34:22.047632Z"
    }
   }
  },
  {
   "cell_type": "code",
   "execution_count": 173,
   "outputs": [
    {
     "data": {
      "text/plain": "[[18, 4, 4, 4, 8, 1, 3, 8],\n [0, 1, 0, 4, 7, 5, 1, 3],\n [7, 6, 9, 23, 14, 24, 23, 27],\n [3, 21, 6, 1, 0, 1, 3, 1],\n [1, 1, 4, 8, 6, 9, 5, 7],\n [0, 0, 0, 4, 17, 30, 13, 20],\n [3, 4, 6, 2, 3, 4, 2, 2],\n [4, 5, 10, 4, 16, 9, 1, 12],\n [0, 0, 2, 5, 11, 5, 2, 3],\n [0, 0, 12, 2, 1, 2, 3, 0],\n [1, 0, 1, 3, 2, 3, 18, 15],\n [1, 3, 1, 1, 2, 1, 3, 7],\n [2, 0, 0, 1, 6, 5, 0, 2],\n [0, 0, 4, 1, 0, 1, 15, 27],\n [0, 0, 0, 3, 12, 14, 3, 4],\n [2, 6, 5, 6, 7, 2, 11, 11]]"
     },
     "execution_count": 173,
     "metadata": {},
     "output_type": "execute_result"
    }
   ],
   "source": [
    "id_books = [id_book1,id_book2,id_book3,id_book4,id_book5,id_book6,id_book7,id_book8]\n",
    "y = []\n",
    "for topic in range(len(nmf_topic_model2.print_topics())):\n",
    "    y_x = []\n",
    "    for book_n in range(0,8):\n",
    "        book = id_books[book_n]\n",
    "        c = book.count(topic)\n",
    "        y_x.append(c)\n",
    "    y.append(y_x)\n",
    "y"
   ],
   "metadata": {
    "collapsed": false,
    "ExecuteTime": {
     "start_time": "2023-05-26T08:34:22.036629Z",
     "end_time": "2023-05-26T08:34:22.207364Z"
    }
   }
  },
  {
   "cell_type": "code",
   "execution_count": 174,
   "outputs": [
    {
     "data": {
      "text/plain": "[<matplotlib.collections.PolyCollection at 0x247ddbe1fa0>,\n <matplotlib.collections.PolyCollection at 0x247ddbd1340>,\n <matplotlib.collections.PolyCollection at 0x247ddbd16d0>,\n <matplotlib.collections.PolyCollection at 0x247ddbd1a30>,\n <matplotlib.collections.PolyCollection at 0x247ddbd1d90>,\n <matplotlib.collections.PolyCollection at 0x247e01ff130>,\n <matplotlib.collections.PolyCollection at 0x247ddbe1f70>,\n <matplotlib.collections.PolyCollection at 0x247e01ff7c0>,\n <matplotlib.collections.PolyCollection at 0x247e01ffb20>,\n <matplotlib.collections.PolyCollection at 0x247e01ffe80>,\n <matplotlib.collections.PolyCollection at 0x247ddbe1e80>,\n <matplotlib.collections.PolyCollection at 0x247e01c3550>,\n <matplotlib.collections.PolyCollection at 0x247e01c38b0>,\n <matplotlib.collections.PolyCollection at 0x247e01c3c10>,\n <matplotlib.collections.PolyCollection at 0x247e01c3f70>,\n <matplotlib.collections.PolyCollection at 0x247dfd90310>]"
     },
     "execution_count": 174,
     "metadata": {},
     "output_type": "execute_result"
    },
    {
     "data": {
      "text/plain": "<Figure size 432x288 with 1 Axes>",
      "image/png": "[encoded data removed]"
     },
     "metadata": {
      "needs_background": "light"
     },
     "output_type": "display_data"
    }
   ],
   "source": [
    "x=range(1,9)\n",
    "plt.stackplot(x,y, labels=['A','B','C'])"
   ],
   "metadata": {
    "collapsed": false,
    "ExecuteTime": {
     "start_time": "2023-05-26T08:34:22.208361Z",
     "end_time": "2023-05-26T08:34:22.500423Z"
    }
   }
  },
  {
   "cell_type": "code",
   "execution_count": null,
   "outputs": [],
   "source": [],
   "metadata": {
    "collapsed": false
   }
  }
 ],
 "metadata": {
  "kernelspec": {
   "display_name": "Python 3",
   "language": "python",
   "name": "python3"
  },
  "language_info": {
   "codemirror_mode": {
    "name": "ipython",
    "version": 2
   },
   "file_extension": ".py",
   "mimetype": "text/x-python",
   "name": "python",
   "nbconvert_exporter": "python",
   "pygments_lexer": "ipython2",
   "version": "2.7.6"
  }
 },
 "nbformat": 4,
 "nbformat_minor": 0
}
