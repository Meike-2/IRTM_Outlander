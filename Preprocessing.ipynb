{
 "cells": [
  {
   "cell_type": "code",
   "execution_count": null,
<<<<<<< Updated upstream
   "metadata": {
    "collapsed": true
   },
   "outputs": [],
   "source": [
    ""
   ]
=======
   "outputs": [],
   "source": [
    "!pip install flair"
   ],
   "metadata": {
    "collapsed": false
   }
  },
  {
   "cell_type": "code",
   "execution_count": null,
   "outputs": [],
   "source": [
    "books = ['Outlander', 'Dragonfly in Amber', 'Voyager', 'Drums of Autumn', 'The Fiery Cross', 'A Breath of Snow and Ashes',\n",
    "         'An Echo in the Bone', 'Written in My Own Heart’s Blood']\n",
    "extras = ['Other Books by this Author', 'About the Author']\n",
    "bookstarts = [50, 17287, 37378, 61857, 89432, 119494, 152540, 177800, 202059]"
   ],
   "metadata": {
    "collapsed": false
   }
  },
  {
   "cell_type": "code",
   "execution_count": 1,
   "metadata": {
    "collapsed": true,
    "ExecuteTime": {
     "start_time": "2023-05-14T10:08:56.700303Z",
     "end_time": "2023-05-14T10:08:56.997506Z"
    }
   },
   "outputs": [],
   "source": [
    "f = open(\"data.txt\", \"r\", encoding=\"utf8\")\n",
    "booknum = 1\n",
    "\n",
    "\n",
    "book = ''\n",
    "i = 0\n",
    "for line in f:\n",
    "    if i < bookstarts[booknum] and i > bookstarts[booknum-1]:\n",
    "        book = book + line\n",
    "    i = i + 1\n",
    "print(len(book))"
   ]
  },
  {
   "cell_type": "code",
   "execution_count": 2,
   "outputs": [
    {
     "name": "stdout",
     "output_type": "stream",
     "text": [
      "2023-05-14 10:09:48,692 SequenceTagger predicts: Dictionary with 75 tags: O, S-PERSON, B-PERSON, E-PERSON, I-PERSON, S-GPE, B-GPE, E-GPE, I-GPE, S-ORG, B-ORG, E-ORG, I-ORG, S-DATE, B-DATE, E-DATE, I-DATE, S-CARDINAL, B-CARDINAL, E-CARDINAL, I-CARDINAL, S-NORP, B-NORP, E-NORP, I-NORP, S-MONEY, B-MONEY, E-MONEY, I-MONEY, S-PERCENT, B-PERCENT, E-PERCENT, I-PERCENT, S-ORDINAL, B-ORDINAL, E-ORDINAL, I-ORDINAL, S-LOC, B-LOC, E-LOC, I-LOC, S-TIME, B-TIME, E-TIME, I-TIME, S-WORK_OF_ART, B-WORK_OF_ART, E-WORK_OF_ART, I-WORK_OF_ART, S-FAC\n",
      "2023-05-14 10:09:52,589 SequenceTagger predicts: Dictionary with 53 tags: <unk>, O, UH, ,, VBD, PRP, VB, PRP$, NN, RB, ., DT, JJ, VBP, VBG, IN, CD, NNS, NNP, WRB, VBZ, WDT, CC, TO, MD, VBN, WP, :, RP, EX, JJR, FW, XX, HYPH, POS, RBR, JJS, PDT, NNPS, RBS, AFX, WP$, -LRB-, -RRB-, ``, '', LS, $, SYM, ADD\n"
     ]
    }
   ],
   "source": [
    "from flair.data import Sentence\n",
    "from flair.models import SequenceTagger\n",
    "\n",
    "# load tagger\n",
    "tagger_ner = SequenceTagger.load(\"flair/ner-english-ontonotes-fast\")\n",
    "tagger_pos = SequenceTagger.load(\"flair/pos-english\")"
   ],
   "metadata": {
    "collapsed": false,
    "ExecuteTime": {
     "start_time": "2023-05-14T10:09:03.627778Z",
     "end_time": "2023-05-14T10:09:53.061593Z"
    }
   }
  },
  {
   "cell_type": "code",
   "execution_count": 4,
   "outputs": [],
   "source": [
    "def ner_tag(text):\n",
    "    sentence_ner = Sentence(text)\n",
    "\n",
    "    # predict NER tags\n",
    "    tagger_ner.predict(sentence_ner)\n",
    "    return sentence_ner"
   ],
   "metadata": {
    "collapsed": false,
    "ExecuteTime": {
     "start_time": "2023-05-14T10:41:20.033778Z",
     "end_time": "2023-05-14T10:41:20.094612Z"
    }
   }
  },
  {
   "cell_type": "code",
   "execution_count": 5,
   "outputs": [],
   "source": [
    "def pos_tag(text):\n",
    "    sentence_pos = Sentence(text)\n",
    "\n",
    "    # predict NER tags\n",
    "    tagger_pos.predict(sentence_pos)\n",
    "    return sentence_pos"
   ],
   "metadata": {
    "collapsed": false,
    "ExecuteTime": {
     "start_time": "2023-05-14T10:41:20.957305Z",
     "end_time": "2023-05-14T10:41:20.995204Z"
    }
   }
  },
  {
   "cell_type": "code",
   "execution_count": 6,
   "outputs": [],
   "source": [
    "def get_person_before(sentence_ner, token):\n",
    "    if token.text=='it':\n",
    "        return token.text\n",
    "    if token.text=='I' or token.text=='me':\n",
    "        return 'Claire'\n",
    "    prev_person = ''\n",
    "    for entity in sentence_ner.get_spans('ner'):\n",
    "        if entity.tag == 'PERSON' and entity.start_position<token.start_position:\n",
    "                prev_person = entity.text\n",
    "        elif entity.start_position>token.start_position:\n",
    "            break\n",
    "    return prev_person"
   ],
   "metadata": {
    "collapsed": false,
    "ExecuteTime": {
     "start_time": "2023-05-14T10:41:21.877844Z",
     "end_time": "2023-05-14T10:41:21.937682Z"
    }
   }
  },
  {
   "cell_type": "code",
   "execution_count": 7,
   "outputs": [],
   "source": [
    "import re\n",
    "\n",
    "def split_into_chapters(booknum, text):\n",
    "    if booknum <7:\n",
    "        return re.split(r'\\n[0-9]+\\n\\n', book)\n",
    "    else:\n",
    "        # needs refinement\n",
    "        return re.split(r'[A-Z ]+\\n\\n', book)"
   ],
   "metadata": {
    "collapsed": false,
    "ExecuteTime": {
     "start_time": "2023-05-14T10:41:23.512472Z",
     "end_time": "2023-05-14T10:41:23.546382Z"
    }
   }
  },
  {
   "cell_type": "code",
   "execution_count": null,
   "outputs": [],
   "source": [
    "chapters = split_into_chapters(1, book)\n",
    "for chapter in chapters:\n",
    "    sentence_pos = pos_tag(book)\n",
    "    sentence_ner = ner_tag(book)\n",
    "    no_pronouns_book = ''\n",
    "    for token in sentence_pos:\n",
    "        if token.tag == 'PRP':\n",
    "            name = get_person_before(sentence_ner, token)\n",
    "            no_pronouns_book = no_pronouns_book + name + ' '\n",
    "        else:\n",
    "            no_pronouns_book = no_pronouns_book + token.text + ' '\n",
    "    with open('data_no_pronouns.txt', 'w') as f:\n",
    "        f.write(no_pronouns_book)\n"
   ],
   "metadata": {
    "collapsed": false,
    "pycharm": {
     "is_executing": true
    }
   }
  },
  {
   "cell_type": "code",
   "execution_count": null,
   "outputs": [],
   "source": [],
   "metadata": {
    "collapsed": false
   }
  },
  {
   "cell_type": "code",
   "execution_count": null,
   "outputs": [],
   "source": [],
   "metadata": {
    "collapsed": false
   }
>>>>>>> Stashed changes
  }
 ],
 "metadata": {
  "kernelspec": {
   "display_name": "Python 3",
   "language": "python",
   "name": "python3"
  },
  "language_info": {
   "codemirror_mode": {
    "name": "ipython",
    "version": 2
   },
   "file_extension": ".py",
   "mimetype": "text/x-python",
   "name": "python",
   "nbconvert_exporter": "python",
   "pygments_lexer": "ipython2",
   "version": "2.7.6"
  }
 },
 "nbformat": 4,
 "nbformat_minor": 0
}
